{
 "cells": [
  {
   "cell_type": "code",
   "execution_count": 114,
   "metadata": {},
   "outputs": [
    {
     "name": "stdout",
     "output_type": "stream",
     "text": [
      "[inf, 6, 3, 4, 2, 0] []\n"
     ]
    }
   ],
   "source": [
    "# 각 정점과 연결된 정점까지의 거리와 그 정점을 튜플로 저장\n",
    "Graph = [\n",
    "    [],\n",
    "    [(6, 3),(3,4)],\n",
    "    [(3,1),],\n",
    "    [(1,4)],\n",
    "    [(1,2),(2,3)],\n",
    "    [(4,2),(2,4)]\n",
    "]\n",
    "\n",
    "visited = []\n",
    "source = 5\n",
    "dist = []\n",
    "Q = []\n",
    "\n",
    "for i in range(len(Graph)):\n",
    "\n",
    "    dist.append(float('inf'))\n",
    "#     prev.append(None)\n",
    "    visited.append(0)\n",
    "    \n",
    "    if i > 0:\n",
    "        Q.append(i)    \n",
    "\n",
    "dist[source] = 0\n",
    "\n",
    "while Q:\n",
    "    \n",
    "    min_dist = float('inf')\n",
    "    \n",
    "    for i in range(1, len(Graph)):\n",
    "        # 특정 조건을 제외한 값을 구해야하는 경우\n",
    "        if visited[i] == 0:\n",
    "            min_val = min(min_dist, dist[i])\n",
    "            \n",
    "    if dist.index(min_val) in Q:\n",
    "        u =  dist.index(min_val)\n",
    "        \n",
    "    Q.pop(Q.index(u))\n",
    "    visited[u] = 1\n",
    "    \n",
    "    for weight, v in Graph[u]:\n",
    "        alt = dist[u] + weight\n",
    "        if alt < dist[v]:\n",
    "            dist[v] = alt\n",
    "\n",
    "# 방문했던 정점을 또 방문할 수 있음(dist에서 최소값이므로)\n",
    "# visited 리스트를 만들어서 해당 정점을 재방문하지 않도록함\n",
    "print(dist, Q)"
   ]
  },
  {
   "cell_type": "code",
   "execution_count": null,
   "metadata": {},
   "outputs": [],
   "source": []
  }
 ],
 "metadata": {
  "kernelspec": {
   "display_name": "Python 3",
   "language": "python",
   "name": "python3"
  },
  "language_info": {
   "codemirror_mode": {
    "name": "ipython",
    "version": 3
   },
   "file_extension": ".py",
   "mimetype": "text/x-python",
   "name": "python",
   "nbconvert_exporter": "python",
   "pygments_lexer": "ipython3",
   "version": "3.8.5"
  }
 },
 "nbformat": 4,
 "nbformat_minor": 4
}
