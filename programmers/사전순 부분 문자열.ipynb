{
 "cells": [
  {
   "cell_type": "markdown",
   "metadata": {},
   "source": [
    "# 사전순 부분 문자열\n",
    "\n",
    "어떤 문자열 s가 주어졌을 때, s로부터 만들 수 있는 부분 문자열 중 사전 순으로 가장 뒤에 나오는 문자열을 찾으려 합니다. 부분 문자열을 만드는 방법은 다음과 같습니다.\n",
    "\n",
    "1. s에서 일부 문자를 선택해 새로운 문자열을 만듭니다.\n",
    "2. 단, 이때 문자의 순서는 뒤바꾸지 않습니다.\n",
    "\n",
    "문자열 s가 주어졌을 때 s로부터 만들 수 있는 부분 문자열 중 사전 순으로 가장 뒤에 나오는 문자열을 리턴하는 solution 함수를 완성해주세요.\n",
    "\n",
    "**제한 사항**\n",
    "\n",
    "- s는 길이가 1 이상 1,000,000 이하인 문자열입니다.\n",
    "- s는 알파벳 소문자로만 이루어져 있습니다.\n",
    "\n",
    "**입출력 예**\n",
    "\n",
    "|s|result|\n",
    "|:---:|:---:|\n",
    "|\"xyb\"|\"yb\"|\n",
    "|\"yxyc\"|\"yyc\"|\n",
    "\n",
    "- **예시1)**\n",
    "\n",
    "    예를 들어 문자열 \"xyb\"로 만들 수 있는 부분 문자열은 다음과 같습니다.\n",
    "\n",
    "    x, y, b, xy, xb, yb, xyb\n",
    "\n",
    "    이 중 사전 순으로 가장 뒤에 있는 문자열은 \"yb\"입니다.\n",
    "   \n",
    "\n",
    "- **예시2)**\n",
    "\n",
    "    \"yxyc\"로 만들 수 있는 부분 문자열은 다음과 같습니다.\n",
    "\n",
    "    y, x, c, yx, yy, yc, xy, xc, yxy, yxc, yyc, xyc, yxyc\n",
    "\n",
    "    이 중 사전 순으로 가장 뒤에 나오는 문자열은 \"yyc\"입니다."
   ]
  },
  {
   "cell_type": "code",
   "execution_count": 7,
   "metadata": {},
   "outputs": [],
   "source": [
    "# 스택은 정렬 유지\n",
    "# 현재 문자 c보다 스택의 마지막 요소 작다면 pop\n",
    "\n",
    "def solution(s):\n",
    "    stack = []\n",
    "    \n",
    "    for c in s:\n",
    "        while stack and stack[-1] < c:\n",
    "            stack.pop()\n",
    "        stack.append(c)\n",
    "        \n",
    "    return ''.join(stack)"
   ]
  },
  {
   "cell_type": "code",
   "execution_count": 8,
   "metadata": {},
   "outputs": [
    {
     "data": {
      "text/plain": [
       "'yb'"
      ]
     },
     "execution_count": 8,
     "metadata": {},
     "output_type": "execute_result"
    }
   ],
   "source": [
    "solution(\"xyb\")"
   ]
  },
  {
   "cell_type": "code",
   "execution_count": 10,
   "metadata": {},
   "outputs": [
    {
     "data": {
      "text/plain": [
       "'yyc'"
      ]
     },
     "execution_count": 10,
     "metadata": {},
     "output_type": "execute_result"
    }
   ],
   "source": [
    "solution(\"yxyc\")"
   ]
  }
 ],
 "metadata": {
  "kernelspec": {
   "display_name": "Python 3",
   "language": "python",
   "name": "python3"
  },
  "language_info": {
   "codemirror_mode": {
    "name": "ipython",
    "version": 3
   },
   "file_extension": ".py",
   "mimetype": "text/x-python",
   "name": "python",
   "nbconvert_exporter": "python",
   "pygments_lexer": "ipython3",
   "version": "3.8.5"
  }
 },
 "nbformat": 4,
 "nbformat_minor": 4
}
