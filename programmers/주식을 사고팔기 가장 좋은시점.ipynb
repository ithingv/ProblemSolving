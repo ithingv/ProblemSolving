{
 "cells": [
  {
   "cell_type": "markdown",
   "metadata": {},
   "source": [
    "# 주식을 사고팔기 가장 좋은시점"
   ]
  },
  {
   "cell_type": "code",
   "execution_count": 2,
   "metadata": {},
   "outputs": [],
   "source": [
    "s = [7,1,5,3,6,4]"
   ]
  },
  {
   "cell_type": "code",
   "execution_count": 70,
   "metadata": {},
   "outputs": [],
   "source": [
    "import time\n",
    "\n",
    "def solution(prices):\n",
    "    start = time.time()\n",
    "    max_price = 0\n",
    "\n",
    "    for i, price in enumerate(prices):\n",
    "        for j in range(i, len(prices)):\n",
    "            max_price = max(prices[j] - price, max_price)\n",
    "    end = time.time()\n",
    "    print(f\"{end - start:.15f} sec\")\n",
    "    return max_price"
   ]
  },
  {
   "cell_type": "code",
   "execution_count": 71,
   "metadata": {},
   "outputs": [
    {
     "name": "stdout",
     "output_type": "stream",
     "text": [
      "0.000000000000000 sec\n"
     ]
    },
    {
     "data": {
      "text/plain": [
       "5"
      ]
     },
     "execution_count": 71,
     "metadata": {},
     "output_type": "execute_result"
    }
   ],
   "source": [
    "solution(s)"
   ]
  },
  {
   "cell_type": "code",
   "execution_count": 73,
   "metadata": {},
   "outputs": [
    {
     "name": "stdout",
     "output_type": "stream",
     "text": [
      "(7, 1)\n",
      "(7, 5)\n",
      "(7, 3)\n",
      "(7, 6)\n",
      "(7, 4)\n",
      "(1, 5)\n",
      "(1, 3)\n",
      "(1, 6)\n",
      "(1, 4)\n",
      "(5, 3)\n",
      "(5, 6)\n",
      "(5, 4)\n",
      "(3, 6)\n",
      "(3, 4)\n",
      "(6, 4)\n",
      "5\n",
      "0.000993728637695 sec\n"
     ]
    }
   ],
   "source": [
    "from itertools import combinations\n",
    "max_profit = 0\n",
    "\n",
    "start = time.time() \n",
    "lst = list(combinations(s, 2))\n",
    "for pair in lst:\n",
    "    print(pair)\n",
    "    benefit = pair[1] - pair[0]\n",
    "    \n",
    "    if max_profit < benefit:\n",
    "        max_profit = max(max_profit, benefit)\n",
    "end = time.time() \n",
    "print(max_profit)\n",
    "print(f\"{end - start:.15f} sec\")       "
   ]
  },
  {
   "cell_type": "code",
   "execution_count": 75,
   "metadata": {},
   "outputs": [],
   "source": [
    "import sys\n",
    "def solution(prices):\n",
    "    \n",
    "    start = time.time()\n",
    "    profit = 0\n",
    "    min_price = sys.maxsize\n",
    "    \n",
    "    for price in prices:\n",
    "        min_price = min(min_price, price)\n",
    "        profit = max(profit, price - min_price)\n",
    "    \n",
    "    end = time.time()\n",
    "    print(f\"{end - start:.15f} sec\") \n",
    "    return profit"
   ]
  },
  {
   "cell_type": "code",
   "execution_count": 76,
   "metadata": {},
   "outputs": [
    {
     "data": {
      "text/plain": [
       "9223372036854775807"
      ]
     },
     "execution_count": 76,
     "metadata": {},
     "output_type": "execute_result"
    }
   ],
   "source": [
    "sys.maxsize"
   ]
  },
  {
   "cell_type": "code",
   "execution_count": 77,
   "metadata": {},
   "outputs": [
    {
     "name": "stdout",
     "output_type": "stream",
     "text": [
      "0.000000000000000 sec\n"
     ]
    },
    {
     "data": {
      "text/plain": [
       "5"
      ]
     },
     "execution_count": 77,
     "metadata": {},
     "output_type": "execute_result"
    }
   ],
   "source": [
    "solution(s)"
   ]
  },
  {
   "cell_type": "code",
   "execution_count": null,
   "metadata": {},
   "outputs": [],
   "source": []
  }
 ],
 "metadata": {
  "kernelspec": {
   "display_name": "Python 3",
   "language": "python",
   "name": "python3"
  },
  "language_info": {
   "codemirror_mode": {
    "name": "ipython",
    "version": 3
   },
   "file_extension": ".py",
   "mimetype": "text/x-python",
   "name": "python",
   "nbconvert_exporter": "python",
   "pygments_lexer": "ipython3",
   "version": "3.8.5"
  }
 },
 "nbformat": 4,
 "nbformat_minor": 4
}
