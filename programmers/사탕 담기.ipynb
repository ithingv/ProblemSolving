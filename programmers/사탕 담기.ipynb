{
 "cells": [
  {
   "cell_type": "markdown",
   "metadata": {},
   "source": [
    "# 사탕 담기\n",
    "\n",
    "**문제**\n",
    "\n",
    "`m` 그램(gram)을 담을 수 있는 가방에 사탕을 가득 채우는 경우의 수를 구하려 합니다. 단, 같은 사탕은 또 넣을 수 없습니다.\n",
    "\n",
    "가방이 감당할 수 있는 무게 `m`, 사탕별 무게가 담긴 배열 `weights`가 매개변수로 주어질 때, 가방을 정확히 `m` 그램으로 채우는 경우의 수를 return 하는 solution 함수를 작성해주세요.\n",
    "\n",
    "**제한 조건**\n",
    "- m은 1,000 이상 100,000 이하인 자연수입니다.\n",
    "- 모든 사탕의 무게는 10 이상 100,000 이하인 자연수입니다.\n",
    "- weights의 길이는 3 이상 15 이하입니다.\n",
    "\n",
    "**입출력 예**\n",
    "\n",
    "|m|weights|return|\n",
    "|:---:|:---:|:---:|\n",
    "|3000|[500,1500,2500,1000,2000]|3|\n",
    "\n",
    "**입출력 예 설명**\n",
    "\n",
    "사탕을 하나씩 선택해 3000 그램으로 만드는 방법은 [500, 1000, 1500], [1000, 2000], [500, 2500] 으로 3가지입니다."
   ]
  },
  {
   "cell_type": "code",
   "execution_count": 1,
   "metadata": {},
   "outputs": [],
   "source": [
    "m = 3000\n",
    "weights = [500, 1500, 2500, 1000, 2000]"
   ]
  },
  {
   "cell_type": "code",
   "execution_count": null,
   "metadata": {},
   "outputs": [],
   "source": [
    "# 답안 1\n",
    "from itertools import combinations\n",
    "\n",
    "def solution(m, weights):\n",
    "\n",
    "    count = 0\n",
    "    \n",
    "    for i in range(len(weights)):\n",
    "        gram_list = list(combinations(weights,i+1))\n",
    "        \n",
    "        for gram in gram_list:\n",
    "            \n",
    "            if sum(gram) == m:\n",
    "                count += 1\n",
    "                \n",
    "    return count"
   ]
  },
  {
   "cell_type": "code",
   "execution_count": 13,
   "metadata": {},
   "outputs": [
    {
     "name": "stdout",
     "output_type": "stream",
     "text": [
      "3\n"
     ]
    }
   ],
   "source": [
    "# 답안 2\n",
    "from itertools import combinations\n",
    "\n",
    "answer= 0\n",
    "for i in range(len(weights)):\n",
    "    cand_case = [sum(comb) for comb in list(combinations(weights, i + 1)) if sum(comb) == 3000]\n",
    "    answer += len(cand_case)\n",
    "    \n",
    "print(answer)"
   ]
  },
  {
   "cell_type": "code",
   "execution_count": 14,
   "metadata": {},
   "outputs": [],
   "source": [
    "# 답안 3\n",
    "from itertools import combinations\n",
    "\n",
    "def solution(m, weights):\n",
    "    answer = 0\n",
    "\n",
    "    for i in range(len(weights)):\n",
    "        answer += list(map(sum, combinations(weights, i))).count(m)\n",
    "\n",
    "    return answer"
   ]
  },
  {
   "attachments": {
    "image.png": {
     "image/png": "[encoded data removed]"
    }
   },
   "cell_type": "markdown",
   "metadata": {},
   "source": [
    "![image.png](attachment:image.png)"
   ]
  },
  {
   "cell_type": "code",
   "execution_count": null,
   "metadata": {},
   "outputs": [],
   "source": []
  }
 ],
 "metadata": {
  "kernelspec": {
   "display_name": "Python 3",
   "language": "python",
   "name": "python3"
  },
  "language_info": {
   "codemirror_mode": {
    "name": "ipython",
    "version": 3
   },
   "file_extension": ".py",
   "mimetype": "text/x-python",
   "name": "python",
   "nbconvert_exporter": "python",
   "pygments_lexer": "ipython3",
   "version": "3.8.5"
  }
 },
 "nbformat": 4,
 "nbformat_minor": 4
}
