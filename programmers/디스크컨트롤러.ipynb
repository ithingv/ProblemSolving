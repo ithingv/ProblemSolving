{
 "cells": [
  {
   "cell_type": "code",
   "execution_count": 1,
   "metadata": {},
   "outputs": [],
   "source": [
    "from collections import deque\n",
    "\n",
    "def solution(jobs):\n",
    "\n",
    "    total_time = 0\n",
    "    heapq.heapify(jobs)\n",
    "    running_queue = deque([jobs[0]])\n",
    "    waiting_queue = deque([jobs[1:]])\n",
    "    is_woring = False\n",
    "    \n",
    "    while True:\n",
    "        \n",
    "        # 종료 조건\n",
    "        if not running_queue and waiting_queue:\n",
    "            return total_time\n",
    "        \n",
    "        # running_queue에 작업이 존재하면 소요시간 계산\n",
    "        if running_queue:\n",
    "            curr_job = running_queue.popleft()\n",
    "            start_time, finishing_time = curr_job[0], curr_job[0] + curr_job[1]\n",
    "            total_time += (finishing_time - start_time)\n",
    "                        \n",
    "            # 이전 작업 중에 대기 가능한 작업이 존재할 경우\n",
    "            if start_time <= waiting_queue[0][0] <= finishing_time:\n",
    "                # 소요시간이 작은 작업을 기준으로 소팅 후 pop\n",
    "            \n",
    "            # 이전 작업이 끝난뒤에 요청이 들어온 경우 \n",
    "            \n",
    "            \n",
    "            # 작업 완료\n",
    "            running_queue.popleft()\n",
    "            if not running_queue and len(waiting_queue) == 0: return total_time\n",
    "            \n",
    "            # 다음 running_queue에 들어갈 waiting_queue 정렬\n",
    "            waiting_queue.sort(key=lambda x: (x[1] - x[0]))\n",
    "                # 소요시간이 적은 순서대로 우선순위 정렬\n",
    "        # running_queue에 작업을 등록\n",
    "        if waiting_queue:\n",
    "            running_queue.append(waiting_queue.popleft())        \n",
    "        \n",
    "        answer = 0\n",
    "    return answer"
   ]
  },
  {
   "cell_type": "code",
   "execution_count": 8,
   "metadata": {},
   "outputs": [
    {
     "name": "stdout",
     "output_type": "stream",
     "text": [
      "deque([[[2, 4], [3, 1], [4, 10]]])\n"
     ]
    }
   ],
   "source": [
    "jobs = [[6,10], [2,4], [4,10], [3,1]]\n",
    "solution(jobs)"
   ]
  },
  {
   "cell_type": "code",
   "execution_count": 9,
   "metadata": {},
   "outputs": [],
   "source": [
    "running_queue = deque([jobs[0]])\n",
    "waiting_queue = deque([jobs[1:]])\n"
   ]
  },
  {
   "cell_type": "code",
   "execution_count": 10,
   "metadata": {},
   "outputs": [
    {
     "data": {
      "text/plain": [
       "deque([[6, 10]])"
      ]
     },
     "execution_count": 10,
     "metadata": {},
     "output_type": "execute_result"
    }
   ],
   "source": [
    "running_queue"
   ]
  },
  {
   "cell_type": "code",
   "execution_count": 11,
   "metadata": {},
   "outputs": [
    {
     "data": {
      "text/plain": [
       "deque([[[2, 4], [4, 10], [3, 1]]])"
      ]
     },
     "execution_count": 11,
     "metadata": {},
     "output_type": "execute_result"
    }
   ],
   "source": [
    "waiting_queue"
   ]
  },
  {
   "cell_type": "code",
   "execution_count": null,
   "metadata": {},
   "outputs": [],
   "source": []
  }
 ],
 "metadata": {
  "kernelspec": {
   "display_name": "Python 3",
   "language": "python",
   "name": "python3"
  },
  "language_info": {
   "codemirror_mode": {
    "name": "ipython",
    "version": 3
   },
   "file_extension": ".py",
   "mimetype": "text/x-python",
   "name": "python",
   "nbconvert_exporter": "python",
   "pygments_lexer": "ipython3",
   "version": "3.8.5"
  }
 },
 "nbformat": 4,
 "nbformat_minor": 4
}
