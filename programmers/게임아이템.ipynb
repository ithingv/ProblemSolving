{
 "cells": [
  {
   "cell_type": "markdown",
   "metadata": {},
   "source": [
    "# 게임아이템"
   ]
  },
  {
   "cell_type": "markdown",
   "metadata": {},
   "source": [
    "**문제요약**\n",
    "- 팀에 속한 캐릭터에 아이템을 사용해 공격력을 높이는 문제\n",
    "\n",
    "**조건**\n",
    "- 아이템은 캐릭터의 공격력을 높이고 체력을 낮춤\n",
    "- 아이템을 사용해 팀의 공격력을 최대한 끌어올린다\n",
    "- 아이템 사용유무는 자유\n",
    "- 아이템 사용한 캐릭터는 체력이 반드시 100이상 남아야함\n",
    "- 한 캐릭터에 아이템 하나씩만 사용 가능\n",
    "- 사용한 아이템은 사라짐\n",
    "\n",
    "**예시**\n",
    "- 캐릭터의 체력이 [200, 120, 150]인 경우 아이템의 효과는 다음과 같다.\n",
    "\n",
    "|높여줄 공격치|낮추는 체력|\n",
    "|:----:|:---:|\n",
    "|30|100|\n",
    "|500|30|\n",
    "|100|400|\n",
    "\n",
    "- 팀 공격력을 최대로 올리려면 첫번째 캐릭터에 첫번째 아이템(30,100)을, 세 번째 캐릭터에 두 번째 아이템(500, 30)을 사용할 수 있다.\n",
    "\n",
    "**입력**\n",
    "- healths: 캐릭터들의 체력을 담은 배열\n",
    "- items: 아이템별 효과를 담은 이차원 배열\n",
    "\n",
    "**제한조건**\n",
    "\n",
    "- healths의 길이는 1 이상 10,000 이하입니다.\n",
    "\n",
    "- healths의 원소(캐릭터의 체력)는 1 이상 1,000,000 이하인 자연수입니다.\n",
    "    items의 길이는 1 이상 5,000 이하입니다.\n",
    "\n",
    "- items에는 아이템이 [올려줄 공격력, 낮출 체력]이 번호 순서대로 들어있습니다.\n",
    "- 아이템 번호는 1번 부터 시작합니다.\n",
    "- items[i]에는 i + 1번 아이템이 [올려줄 공격력, 낮출 체력]이 들어있습니다.\n",
    "- 아이템이 올리는 공격력은 1 이상 500,000 이하인 자연수입니다.\n",
    "- 아이템이 내리는 체력은 1 이상 500,000 이하인 자연수입니다.\n",
    "- 아이템 번호는 오름차순으로 정렬해 return 해주세요.\n",
    "- 올려주는 공격력이 같은 아이템은 없습니다.\n",
    "- 아이템을 사용하는 방법이 여러 가지라면, 그러한 방법 중 아무거나 하나를 return 해주세요. 단, 아이템 번호는 오름차순으로 정렬되어 있어야 합니다."
   ]
  },
  {
   "cell_type": "code",
   "execution_count": 67,
   "metadata": {},
   "outputs": [],
   "source": [
    "# healths = [300,200,500]\n",
    "# items = [[1000, 600], [400, 500], [300, 100]]\n",
    "healths = [200,120,150]\n",
    "items = [[30,100],[500,30],[100,400]]"
   ]
  },
  {
   "cell_type": "code",
   "execution_count": 68,
   "metadata": {},
   "outputs": [],
   "source": [
    "import copy\n",
    "from collections import deque\n",
    "\n",
    "def solution(healths, items):\n",
    "    \n",
    "    result = []\n",
    "    healths.sort()\n",
    "    items = [(item[0], item[1], idx + 1) for idx, item in enumerate(items)]\n",
    "    items = deque(sorted(items, key=lambda x: (x[1], x[0])))\n",
    "\n",
    "    for health in healths:\n",
    "        for item_set in copy.deepcopy(items):\n",
    "            decreased_hp = item_set[1]\n",
    "            remained_hp = health - decreased_hp\n",
    "            if remained_hp < 100:\n",
    "                continue\n",
    "            else:\n",
    "                items.popleft()\n",
    "                result.append(item_set[2])\n",
    "                break\n",
    "\n",
    "    return sorted(result)"
   ]
  },
  {
   "cell_type": "code",
   "execution_count": 69,
   "metadata": {},
   "outputs": [
    {
     "data": {
      "text/plain": [
       "[1, 2]"
      ]
     },
     "execution_count": 69,
     "metadata": {},
     "output_type": "execute_result"
    }
   ],
   "source": [
    "solution(healths, items)"
   ]
  },
  {
   "attachments": {
    "image.png": {
     "image/png": "[encoded data removed]"
    }
   },
   "cell_type": "markdown",
   "metadata": {},
   "source": [
    "![image.png](attachment:image.png)"
   ]
  },
  {
   "cell_type": "code",
   "execution_count": null,
   "metadata": {},
   "outputs": [],
   "source": []
  },
  {
   "cell_type": "code",
   "execution_count": null,
   "metadata": {},
   "outputs": [],
   "source": []
  },
  {
   "cell_type": "code",
   "execution_count": null,
   "metadata": {},
   "outputs": [],
   "source": []
  },
  {
   "cell_type": "code",
   "execution_count": null,
   "metadata": {},
   "outputs": [],
   "source": []
  },
  {
   "cell_type": "code",
   "execution_count": null,
   "metadata": {},
   "outputs": [],
   "source": []
  },
  {
   "cell_type": "code",
   "execution_count": null,
   "metadata": {},
   "outputs": [],
   "source": []
  },
  {
   "cell_type": "code",
   "execution_count": null,
   "metadata": {},
   "outputs": [],
   "source": []
  },
  {
   "cell_type": "code",
   "execution_count": null,
   "metadata": {},
   "outputs": [],
   "source": []
  },
  {
   "cell_type": "code",
   "execution_count": null,
   "metadata": {},
   "outputs": [],
   "source": []
  },
  {
   "cell_type": "code",
   "execution_count": null,
   "metadata": {},
   "outputs": [],
   "source": []
  },
  {
   "cell_type": "code",
   "execution_count": null,
   "metadata": {},
   "outputs": [],
   "source": []
  },
  {
   "cell_type": "code",
   "execution_count": null,
   "metadata": {},
   "outputs": [],
   "source": []
  },
  {
   "cell_type": "code",
   "execution_count": null,
   "metadata": {},
   "outputs": [],
   "source": []
  }
 ],
 "metadata": {
  "kernelspec": {
   "display_name": "Python 3",
   "language": "python",
   "name": "python3"
  },
  "language_info": {
   "codemirror_mode": {
    "name": "ipython",
    "version": 3
   },
   "file_extension": ".py",
   "mimetype": "text/x-python",
   "name": "python",
   "nbconvert_exporter": "python",
   "pygments_lexer": "ipython3",
   "version": "3.8.5"
  }
 },
 "nbformat": 4,
 "nbformat_minor": 4
}
