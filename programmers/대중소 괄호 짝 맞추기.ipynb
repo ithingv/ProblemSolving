{
 "cells": [
  {
   "cell_type": "markdown",
   "metadata": {},
   "source": [
    "# 대중소 괄호 짝 맞추기\n",
    "\n",
    "여섯 가지 괄호 '(', ')', '{', '}', '[', ']'로 이루어진 문자열이 바르게 닫힌 문자열인지 알아보려 합니다. 바르게 닫힌 문자열이라는 것은\n",
    "\n",
    "'(' 문자로 열렸으면 반드시 짝지어서 ')' 문자로,\n",
    "'[' 문자로 열렸으면 반드시 짝지어서 ']' 문자로,\n",
    "'{' 문자로 열렸으면 반드시 짝지어서 '}' 문자로\n",
    "닫히는 문자열입니다. 또한, 괄호 쌍 안에는 다른 괄호 쌍이 들어갈 수 있습니다. 예를 들어,\n",
    "\n",
    "{{}}, ({})[]는 바르게 닫힌 괄호입니다.\n",
    "[), ]()[, ([())]는 바르게 닫히지 않은 괄호입니다.\n",
    "문자열 s가 주어졌을 때, 문자열 s가 바르게 닫힌 괄호이면 true를, 그렇지 않으면 false를 return 하는 solution 함수를 완성해 주세요.\n",
    "\n",
    "**제한사항**\n",
    "- 문자열 s는 (, ), {, }, [, ] 로만 이루어졌습니다.\n",
    "- 문자열 s의 길이는 1 이상 40 이하입니다.\n",
    "\n",
    "**입출력 예**\n",
    "\n",
    "|s | answer|\n",
    "|:---:|:---:|\n",
    "|\"{{}}\"|\ttrue|\n",
    "|\"({})[]\"|\ttrue|\n",
    "|\"[)\"|\tfalse|\n",
    "|\"]()[\"|\tfalse|\n",
    "|\"([())]\"|\tfalse|\n"
   ]
  },
  {
   "cell_type": "markdown",
   "metadata": {},
   "source": [
    "##### 1차 시도\n",
    "\n",
    "- 문자열 s를 리스트 변환 후 닫는 괄호, 여는 괄호를 정렬해서 반복문을 돌며 마지막 요소를 비교해서 여는 괄호, 닫는 괄호 쌍을 이루는지 체크하는 로직\n",
    "\n",
    "\n",
    "- **다른 괄호 중간에 괄호가 들어가는 경우 괄호 쌍이 완성되야하는 것을 체크했어야함**\n"
   ]
  },
  {
   "cell_type": "code",
   "execution_count": 25,
   "metadata": {},
   "outputs": [],
   "source": [
    "s = '([())]'\n",
    "s_list = list(s)\n",
    "closed_form = [form for form in s_list if form in ['}', ']', ')']]\n",
    "opening_form = [form for form in s_list if form in ['{', '[', '(']]"
   ]
  },
  {
   "cell_type": "code",
   "execution_count": 26,
   "metadata": {},
   "outputs": [
    {
     "data": {
      "text/plain": [
       "[')', ')', ']']"
      ]
     },
     "execution_count": 26,
     "metadata": {},
     "output_type": "execute_result"
    }
   ],
   "source": [
    "closed_form"
   ]
  },
  {
   "cell_type": "code",
   "execution_count": 27,
   "metadata": {},
   "outputs": [
    {
     "data": {
      "text/plain": [
       "['(', '[', '(']"
      ]
     },
     "execution_count": 27,
     "metadata": {},
     "output_type": "execute_result"
    }
   ],
   "source": [
    "opening_form"
   ]
  },
  {
   "cell_type": "code",
   "execution_count": 31,
   "metadata": {},
   "outputs": [],
   "source": [
    "# 오답\n",
    "def solution(s):\n",
    "    \n",
    "    closed_form = sorted([form for form in list(s) if form in ['}', ']', ')']])\n",
    "    opening_form = sorted([form for form in list(s) if form in ['{', '[', '(']])\n",
    "\n",
    "    if len(closed_form) != len(opening_form):\n",
    "        return False\n",
    "    \n",
    "    while closed_form:\n",
    "        c = closed_form.pop()\n",
    "        if c == ']' and opening_form[-1] != \"[\":\n",
    "            return False\n",
    "        elif c == '}' and opening_form[-1] != \"{\":\n",
    "            return False\n",
    "        elif c == ')' and opening_form[-1] != \"(\":\n",
    "            return False\n",
    "        opening_form.pop()\n",
    "\n",
    "    return True"
   ]
  },
  {
   "cell_type": "markdown",
   "metadata": {},
   "source": [
    "##### 2차 시도\n",
    "\n",
    "- **다른 괄호 중간에 괄호가 들어가는 경우 괄호 쌍이 완성되야하는 것을 체크했어야함**\n",
    "    \n",
    "    - 여는 괄호 다음 요소가 여는 괄호('(', '{', '[')                 \n",
    "    \n",
    "    - 여는 괄호 다음 요소가 닫는 괄호 (여는 괄호와 쌍이 맞는 경우에만 True)\n",
    "    \n",
    "    \n",
    "- 탐색을 마치고 스택이 비어있다면 True 남아있다면 False(여는괄호가 남아있는경우)"
   ]
  },
  {
   "cell_type": "code",
   "execution_count": 50,
   "metadata": {
    "scrolled": true
   },
   "outputs": [],
   "source": [
    "def solution(s):\n",
    "    stack = []\n",
    "    opening = ['{', '[', '(']\n",
    "    closing = ['}', ']', ')']\n",
    "    temp_dict = {elem[0] : elem[1] for elem in zip(opening, closing)}\n",
    "    \n",
    "    for c in s:\n",
    "        if c in opening_list: # 여는 괄호가 오는 경우 stack에 저장한다.\n",
    "            stack.append(c)\n",
    "        elif c in closing_list: # 닫는 괄호가 오는 경우 스택이 비어있는지 여부에 따라 케이스를 나눈다.\n",
    "            if not stack: \n",
    "                return False\n",
    "            else: # 스택에 요소가 존재하는 경우 닫는 괄호(c)가 스택의 여는 괄호와 pair를 이루면 스택을 pop하고 아니면 False를 리턴한다.\n",
    "                if temp_dict[stack[-1]] == c:\n",
    "                    stack.pop()\n",
    "                else:\n",
    "                    return False\n",
    "    \n",
    "    return True if len(stack) == 0 else False"
   ]
  },
  {
   "cell_type": "code",
   "execution_count": 52,
   "metadata": {},
   "outputs": [],
   "source": [
    "assert solution(\"{{}}\") == True\n",
    "assert solution(\"({})[]\") == True\n",
    "assert solution(\"[)\") == False\n",
    "assert solution(\"]()[\") == False\n",
    "assert solution(\"([())]\") ==False"
   ]
  },
  {
   "attachments": {
    "image.png": {
     "image/png": "[encoded data removed]"
    }
   },
   "cell_type": "markdown",
   "metadata": {},
   "source": [
    "![image.png](attachment:image.png)"
   ]
  }
 ],
 "metadata": {
  "kernelspec": {
   "display_name": "Python 3",
   "language": "python",
   "name": "python3"
  },
  "language_info": {
   "codemirror_mode": {
    "name": "ipython",
    "version": 3
   },
   "file_extension": ".py",
   "mimetype": "text/x-python",
   "name": "python",
   "nbconvert_exporter": "python",
   "pygments_lexer": "ipython3",
   "version": "3.8.5"
  }
 },
 "nbformat": 4,
 "nbformat_minor": 4
}
