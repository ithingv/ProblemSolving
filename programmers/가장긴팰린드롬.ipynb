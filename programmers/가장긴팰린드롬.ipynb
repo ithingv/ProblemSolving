{
 "cells": [
  {
   "cell_type": "markdown",
   "metadata": {},
   "source": [
    "# 가장 긴 팰린드롬(LV3)\n",
    "\n",
    "**문제 설명**\n",
    "\n",
    "**※ 주의**\n",
    "\n",
    "    본 문제는 일부러 시간복잡도가 오래 걸려도 정답이 나오도록 제한 시간이 넉넉하게 설정되어 있습니다.\n",
    "    본 문제를 정말 빠른 알고리즘으로 풀려면 구글에서 longest palindrom subsequence로 검색을 해보세요.\n",
    "\n",
    "    앞뒤를 뒤집어도 똑같은 문자열을 팰린드롬(palindrome)이라고 합니다.\n",
    "    문자열 s가 주어질 때, s의 부분문자열(Substring)중 가장 긴 팰린드롬의 길이를 return 하는 solution 함수를 완성해 주세요.\n",
    "\n",
    "- 예를들면, 문자열 s가 \"abcdcba\"이면 7을 return하고 \"abacde\"이면 3을 return합니다.\n",
    "\n",
    "**제한사항**\n",
    "\n",
    "- 문자열 s의 길이 : 2500 이하의 자연수\n",
    "- 문자열 s는 알파벳 소문자로만 구성\n",
    "\n",
    "\n",
    "**입출력 예**\n",
    "\n",
    "|s|\tanswer|\n",
    "|:-:|:--:|\n",
    "|\"abcdcba\"|\t7|\n",
    "|\"abacde\"|\t3|\n",
    "\n",
    "\n",
    "**입출력 예 설명**\n",
    "\n",
    "입출력 예 #1\n",
    "- 4번째자리 'd'를 기준으로 문자열 s 전체가 팰린드롬이 되므로 7을 return합니다.\n",
    "\n",
    "입출력 예 #2\n",
    "- 2번째자리 'b'를 기준으로 \"aba\"가 팰린드롬이 되므로 3을 return합니다."
   ]
  },
  {
   "cell_type": "code",
   "execution_count": null,
   "metadata": {},
   "outputs": [],
   "source": []
  },
  {
   "cell_type": "code",
   "execution_count": null,
   "metadata": {},
   "outputs": [],
   "source": []
  },
  {
   "cell_type": "code",
   "execution_count": null,
   "metadata": {},
   "outputs": [],
   "source": []
  },
  {
   "cell_type": "code",
   "execution_count": null,
   "metadata": {},
   "outputs": [],
   "source": [
    "def solution(s):\n",
    "\n",
    "    cand_list = []\n",
    "    for idx, char in enumerate(s):\n",
    "             \n",
    "        left_ = idx - 1\n",
    "        right_ = idx + 1\n",
    "        \n",
    "        while left_ >= 0 and right_ <= len(s) - 1:\n",
    "            \n",
    "            if s[left_] != s[right_]:\n",
    "                char = \"\"\n",
    "                break\n",
    "            \n",
    "            char = s[left_] + char + s[right_]\n",
    "            left_ -= 1\n",
    "            right_ += 1\n",
    "            \n",
    "        if char:\n",
    "            cand_list.append(char)\n",
    "\n",
    "    return max([len(cand) for cand in cand_list])"
   ]
  }
 ],
 "metadata": {
  "kernelspec": {
   "display_name": "Python 3",
   "language": "python",
   "name": "python3"
  },
  "language_info": {
   "codemirror_mode": {
    "name": "ipython",
    "version": 3
   },
   "file_extension": ".py",
   "mimetype": "text/x-python",
   "name": "python",
   "nbconvert_exporter": "python",
   "pygments_lexer": "ipython3",
   "version": "3.7.4"
  }
 },
 "nbformat": 4,
 "nbformat_minor": 2
}
