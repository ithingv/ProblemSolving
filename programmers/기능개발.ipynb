{
 "cells": [
  {
   "cell_type": "code",
   "execution_count": 1,
   "metadata": {},
   "outputs": [],
   "source": [
    "import heapq"
   ]
  },
  {
   "cell_type": "code",
   "execution_count": 2,
   "metadata": {},
   "outputs": [],
   "source": [
    "progresses = [93,30,55]\n",
    "speeds = [1,30,5]"
   ]
  },
  {
   "cell_type": "code",
   "execution_count": 54,
   "metadata": {},
   "outputs": [],
   "source": [
    "completed_time = []\n",
    "\n",
    "for i in range(len(progresses)):\n",
    "    progress = progresses[i]\n",
    "    speed = speeds[i]\n",
    "    curr = progress + speed\n",
    "    day = 1\n",
    "    \n",
    "    while True:\n",
    "        if curr >= 100:\n",
    "            completed_time.append((day, i))\n",
    "            break\n",
    "        curr = curr + speed  \n",
    "        day += 1"
   ]
  },
  {
   "cell_type": "code",
   "execution_count": 55,
   "metadata": {},
   "outputs": [
    {
     "data": {
      "text/plain": [
       "[(7, 0), (3, 1), (9, 2)]"
      ]
     },
     "execution_count": 55,
     "metadata": {},
     "output_type": "execute_result"
    }
   ],
   "source": [
    "completed_time"
   ]
  },
  {
   "cell_type": "code",
   "execution_count": 56,
   "metadata": {},
   "outputs": [],
   "source": [
    "completed_time = deque(sorted(completed_time, key=lambda x : x[0]))"
   ]
  },
  {
   "cell_type": "code",
   "execution_count": 58,
   "metadata": {},
   "outputs": [],
   "source": [
    "def is_empty(completed_time):\n",
    "    return True if len(completed_time) == 0 else False"
   ]
  },
  {
   "cell_type": "code",
   "execution_count": 57,
   "metadata": {},
   "outputs": [
    {
     "name": "stdout",
     "output_type": "stream",
     "text": [
      "(3, 1)\n",
      "(7, 0)\n",
      "(9, 2)\n"
     ]
    }
   ],
   "source": [
    "min_priority = 0\n",
    "idx = 0\n",
    "\n",
    "while True:\n",
    "    day, priority = completed_time[idx][0], completed_time[idx][1] \n",
    "    while priority != min_priority\n",
    "        \n",
    "                                                            "
   ]
  },
  {
   "cell_type": "code",
   "execution_count": 51,
   "metadata": {},
   "outputs": [
    {
     "data": {
      "text/plain": [
       "(3, 1)"
      ]
     },
     "execution_count": 51,
     "metadata": {},
     "output_type": "execute_result"
    }
   ],
   "source": [
    "pair = completed_time.popleft()"
   ]
  },
  {
   "cell_type": "code",
   "execution_count": null,
   "metadata": {},
   "outputs": [],
   "source": [
    "_, priority = pair[0], pair[1]\n",
    "\n",
    "if priority >= min_priority:\n",
    "    # 계속 count를 추가\n",
    "\n",
    "else:\n",
    "    # "
   ]
  },
  {
   "cell_type": "code",
   "execution_count": null,
   "metadata": {},
   "outputs": [],
   "source": []
  },
  {
   "cell_type": "code",
   "execution_count": null,
   "metadata": {},
   "outputs": [],
   "source": []
  },
  {
   "cell_type": "code",
   "execution_count": 41,
   "metadata": {},
   "outputs": [
    {
     "name": "stdout",
     "output_type": "stream",
     "text": [
      "7 1\n",
      "7 2\n",
      "7 2\n",
      "deque([])\n"
     ]
    }
   ],
   "source": [
    "from collections import deque\n",
    "\n",
    "completed_time = [7,3,9]\n",
    "completed_time = deque(completed_time)\n",
    "answer= []\n",
    "\n",
    "while len(completed_time):\n",
    "    curr = completed_time[0]\n",
    "    count = 0\n",
    "    \n",
    "    while \n",
    "        if curr >= completed_time.popleft():\n",
    "            count = count + 1\n",
    "        print(curr, count)\n",
    "    print(completed_time)\n",
    "    answer.append(count)"
   ]
  },
  {
   "cell_type": "code",
   "execution_count": 42,
   "metadata": {},
   "outputs": [
    {
     "data": {
      "text/plain": [
       "[2]"
      ]
     },
     "execution_count": 42,
     "metadata": {},
     "output_type": "execute_result"
    }
   ],
   "source": [
    "answer"
   ]
  },
  {
   "cell_type": "code",
   "execution_count": null,
   "metadata": {},
   "outputs": [],
   "source": []
  }
 ],
 "metadata": {
  "kernelspec": {
   "display_name": "Python 3",
   "language": "python",
   "name": "python3"
  },
  "language_info": {
   "codemirror_mode": {
    "name": "ipython",
    "version": 3
   },
   "file_extension": ".py",
   "mimetype": "text/x-python",
   "name": "python",
   "nbconvert_exporter": "python",
   "pygments_lexer": "ipython3",
   "version": "3.8.5"
  }
 },
 "nbformat": 4,
 "nbformat_minor": 4
}
