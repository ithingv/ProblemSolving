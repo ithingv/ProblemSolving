{
 "cells": [
  {
   "cell_type": "markdown",
   "metadata": {},
   "source": [
    "# 올바른 괄호\n",
    "\n",
    "**문제 설명**\n",
    "\n",
    "올바른 괄호란 두 개의 괄호 `'('` 와 `')'` 만으로 구성되어 있고, 괄호가 올바르게 짝지어진 문자열입니다. 괄호가 올바르게 짝지어졌다는 것은 `'('` 문자로 열렸으면 반드시 짝지어서 ')' 문자로 닫혀야 합니다.\n",
    "예를들어\n",
    "\n",
    "    - \"()()\" 또는 \"(())()\" 는 올바른 괄호입니다.\n",
    "    - \")()(\" 또는 \"(()(\" 는 올바르지 않은 괄호입니다.\n",
    "\n",
    "`'('` 또는 `')'` 로만 이루어진 문자열 `s`가 주어졌을 때, 문자열 `s`가 올바른 괄호이면 true를 return 하고, 올바르지 않은 괄호이면 false를 return하는 solution 함수를 완성해 주세요.\n",
    "\n",
    "**제한사항**\n",
    "\n",
    "\n",
    "- 문자열 s의 길이 : 100,000 이하의 자연수\n",
    "- 문자열 s는 `'('` 또는 `')'` 로만 이루어져 있습니다.\n",
    "\n",
    "**입출력 예**\n",
    "\n",
    "|s|\tanswer|\n",
    "|:--:|:--:|\n",
    "|\"()()\"\t|true|\n",
    "|\"(())()\"|\ttrue|\n",
    "|\")()(\"|\tfalse|\n",
    "|\"(()(\"|\tfalse|\n",
    "\n",
    "\n",
    "**입출력 예 설명**\n",
    "\n",
    "입출력 예 #1,2,3,4\n",
    "\n",
    "    문제의 예시와 같습니다.\n"
   ]
  },
  {
   "cell_type": "code",
   "execution_count": 1,
   "metadata": {},
   "outputs": [],
   "source": [
    "def solution(s):\n",
    "\n",
    "    stack= [] \n",
    "\n",
    "    for i in range(len(s)):\n",
    "        if s[i] == \"(\": # - \"(\"이면 스택에 저장\n",
    "            stack.append(s[i])\n",
    "        else:\n",
    "            # \")\"이면 스택에서 \"(\"를 제거\n",
    "            # 제거할때 스택이 비어있다면 False를 리턴\n",
    "            if len(stack) == 0: return False\n",
    "            stack.pop()\n",
    "    return True if len(stack) == 0 else False"
   ]
  },
  {
   "cell_type": "code",
   "execution_count": 2,
   "metadata": {},
   "outputs": [],
   "source": [
    "# Test Case 1\n",
    "s = \"()()\"\n",
    "assert True == solution(s)"
   ]
  },
  {
   "cell_type": "code",
   "execution_count": 3,
   "metadata": {},
   "outputs": [],
   "source": [
    "# Test Case 2\n",
    "s = \"(())()\"\n",
    "assert True == solution(s)"
   ]
  },
  {
   "cell_type": "code",
   "execution_count": 4,
   "metadata": {},
   "outputs": [],
   "source": [
    "# Test Case 3\n",
    "s = \")()(\"\n",
    "assert False == solution(s)"
   ]
  },
  {
   "cell_type": "code",
   "execution_count": 5,
   "metadata": {},
   "outputs": [],
   "source": [
    "# Test Case 4\n",
    "s = \"(()(\"\n",
    "assert False == solution(s)"
   ]
  },
  {
   "attachments": {
    "image.png": {
     "image/png": "[encoded data removed]"
    }
   },
   "cell_type": "markdown",
   "metadata": {},
   "source": [
    "![image.png](attachment:image.png)"
   ]
  }
 ],
 "metadata": {
  "kernelspec": {
   "display_name": "Python 3",
   "language": "python",
   "name": "python3"
  },
  "language_info": {
   "codemirror_mode": {
    "name": "ipython",
    "version": 3
   },
   "file_extension": ".py",
   "mimetype": "text/x-python",
   "name": "python",
   "nbconvert_exporter": "python",
   "pygments_lexer": "ipython3",
   "version": "3.8.5"
  }
 },
 "nbformat": 4,
 "nbformat_minor": 4
}
