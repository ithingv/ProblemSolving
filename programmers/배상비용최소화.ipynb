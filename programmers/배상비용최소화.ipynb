{
 "cells": [
  {
   "cell_type": "markdown",
   "metadata": {},
   "source": [
    "# 배상비용최소화\n",
    "\n",
    "- 배상 비용은 각 선박의 완성까지 남은 일의 작업량을 제곱하여 모두 더한 값\n",
    "\n",
    "- 조선소에서 작업할 수 있는 N시간\n",
    "- 각 일에 대한 작업량이 담긴 배열(works)\n",
    "- 배상 비용을 최소화한 결과를 반환하는 함수를 만들라 "
   ]
  },
  {
   "cell_type": "markdown",
   "metadata": {},
   "source": [
    "제한사항\n",
    "\n",
    "- 일할 수 있는 시간 N : 1,000,000 이하의 자연수\n",
    "- 배열 works의 크기 : 1,000 이하의 자연수\n",
    "- 각 일에 대한 작업량 : 1,000 이하의 자연수"
   ]
  },
  {
   "cell_type": "markdown",
   "metadata": {},
   "source": [
    "###  최대힙 구하기"
   ]
  },
  {
   "cell_type": "code",
   "execution_count": 46,
   "metadata": {},
   "outputs": [],
   "source": [
    "works = [4,3,3]\n",
    "# max heap\n",
    "works = [-i for i in works]\n",
    "heapq.heapify(works)"
   ]
  },
  {
   "cell_type": "code",
   "execution_count": 25,
   "metadata": {},
   "outputs": [],
   "source": [
    "# reduce 사용법\n",
    "from functools import reduce"
   ]
  },
  {
   "cell_type": "code",
   "execution_count": 17,
   "metadata": {},
   "outputs": [],
   "source": [
    "func = lambda acc, curr: acc + curr**2"
   ]
  },
  {
   "cell_type": "code",
   "execution_count": 21,
   "metadata": {},
   "outputs": [],
   "source": [
    "result = reduce(func, [1,2,3])"
   ]
  },
  {
   "cell_type": "code",
   "execution_count": 22,
   "metadata": {},
   "outputs": [
    {
     "data": {
      "text/plain": [
       "14"
      ]
     },
     "execution_count": 22,
     "metadata": {},
     "output_type": "execute_result"
    }
   ],
   "source": [
    "result"
   ]
  },
  {
   "cell_type": "markdown",
   "metadata": {},
   "source": [
    "#### 리스트에 있는 값들의 모든 조합 구하기\n",
    "\n",
    "- from itertools import product\n",
    "- from itertools import permutations\n",
    "- from itertools import combinations\n",
    "\n",
    "\n",
    "- 하나의 리스트에서 모든 조합을 계산을 해야 한다면, permutations, combinations을 사용\n",
    "- 두개 이상의 리스트에서 모든 조합을 계산해야 한다면, product를 사용"
   ]
  },
  {
   "cell_type": "code",
   "execution_count": 28,
   "metadata": {},
   "outputs": [
    {
     "name": "stdout",
     "output_type": "stream",
     "text": [
      "[('1', '2'), ('1', '3'), ('1', '4'), ('1', '5'), ('2', '1'), ('2', '3'), ('2', '4'), ('2', '5'), ('3', '1'), ('3', '2'), ('3', '4'), ('3', '5'), ('4', '1'), ('4', '2'), ('4', '3'), ('4', '5'), ('5', '1'), ('5', '2'), ('5', '3'), ('5', '4')]\n"
     ]
    }
   ],
   "source": [
    "from itertools import permutations\n",
    "\n",
    "items = ['1', '2', '3', '4', '5'] \n",
    "print(list(permutations(items, 2)))"
   ]
  },
  {
   "cell_type": "code",
   "execution_count": null,
   "metadata": {},
   "outputs": [],
   "source": [
    "from itertools import permutations\n",
    "\n",
    "items = ['1', '2', '3', '4', '5'] \n",
    "print(list(permutations(items, 2)))"
   ]
  },
  {
   "cell_type": "code",
   "execution_count": 29,
   "metadata": {},
   "outputs": [
    {
     "name": "stdout",
     "output_type": "stream",
     "text": [
      "[('1', '2'), ('1', '3'), ('1', '4'), ('1', '5'), ('2', '3'), ('2', '4'), ('2', '5'), ('3', '4'), ('3', '5'), ('4', '5')]\n"
     ]
    }
   ],
   "source": [
    "from itertools import combinations\n",
    "\n",
    "items = ['1', '2', '3', '4', '5'] \n",
    "print(list(combinations(items, 2)))"
   ]
  },
  {
   "cell_type": "code",
   "execution_count": 33,
   "metadata": {},
   "outputs": [
    {
     "name": "stdout",
     "output_type": "stream",
     "text": [
      "[('a', '1', '!'), ('a', '1', '@'), ('a', '1', '#'), ('a', '2', '!'), ('a', '2', '@'), ('a', '2', '#'), ('a', '3', '!'), ('a', '3', '@'), ('a', '3', '#'), ('a', '4', '!'), ('a', '4', '@'), ('a', '4', '#'), ('b', '1', '!'), ('b', '1', '@'), ('b', '1', '#'), ('b', '2', '!'), ('b', '2', '@'), ('b', '2', '#'), ('b', '3', '!'), ('b', '3', '@'), ('b', '3', '#'), ('b', '4', '!'), ('b', '4', '@'), ('b', '4', '#'), ('c,', '1', '!'), ('c,', '1', '@'), ('c,', '1', '#'), ('c,', '2', '!'), ('c,', '2', '@'), ('c,', '2', '#'), ('c,', '3', '!'), ('c,', '3', '@'), ('c,', '3', '#'), ('c,', '4', '!'), ('c,', '4', '@'), ('c,', '4', '#')]\n"
     ]
    }
   ],
   "source": [
    "from itertools import product \n",
    "items = [['a', 'b', 'c,'], ['1', '2', '3', '4'], ['!', '@', '#']] \n",
    "print(list(product(*items)))"
   ]
  },
  {
   "cell_type": "markdown",
   "metadata": {},
   "source": [
    "### 자연수 분할 문제"
   ]
  },
  {
   "cell_type": "code",
   "execution_count": 75,
   "metadata": {},
   "outputs": [],
   "source": [
    "import heapq\n",
    "\n",
    "no = 4\n",
    "works = [4,3,3]\n",
    "\n",
    "def solution(no, works):\n",
    "    \n",
    "    if no > sum(works):\n",
    "        return\n",
    "    \n",
    "    # max heap\n",
    "    works = [(-i, i) for i in works]\n",
    "    heapq.heapify(works)\n",
    "    \n",
    "    for _ in range(no):\n",
    "        max_val = heapq.heappop(works)[1]\n",
    "        max_val -= 1\n",
    "        heapq.heappush(works, (-max_val, max_val))\n",
    "    \n",
    "    return sum([work[1]**2 for work in works])"
   ]
  },
  {
   "cell_type": "code",
   "execution_count": 76,
   "metadata": {},
   "outputs": [
    {
     "data": {
      "text/plain": [
       "12"
      ]
     },
     "execution_count": 76,
     "metadata": {},
     "output_type": "execute_result"
    }
   ],
   "source": [
    "solution(4, [4,3,3])"
   ]
  },
  {
   "attachments": {
    "image.png": {
     "image/png": "[encoded data removed]"
    }
   },
   "cell_type": "markdown",
   "metadata": {},
   "source": [
    "![image.png](attachment:image.png)"
   ]
  },
  {
   "cell_type": "markdown",
   "metadata": {},
   "source": [
    "- 자연수 분할을 해야하는지? \n",
    "    - NO\n",
    "    - 자연수 N을 K개로 나누는 경우의 수는 P(N,K)이다\n",
    "\n",
    "\n",
    "- 이 문제의 경우 최대힙을 구성해서 최대값을 N이 0이 되기 전까지 최대값을 빼주고 최대힙을 재구성하는 방식으로 로직을 진행한다.\n",
    "    - heap에서 가장 큰 값을 N이 0이 될 때까지 계속 빼는 방법\n",
    "\n",
    "\n",
    "- MAX_HEAP 구성을 위해 튜플을 굳이 사용하지 않고 음수로 바꾼뒤에 결국 제곱을 해서 값을 계산하므로 부호가 바뀐 최대값에 +1을 해주는 방식으로 진행"
   ]
  },
  {
   "cell_type": "code",
   "execution_count": 77,
   "metadata": {},
   "outputs": [],
   "source": [
    "import heapq\n",
    "from functools import reduce\n",
    "\n",
    "def solution(no, works):\n",
    "    \n",
    "    if no > sum(works):\n",
    "        return 0\n",
    "    \n",
    "    works = [-work for work in works]\n",
    "    heapq.heapify(works)\n",
    "        \n",
    "    for _ in range(no):\n",
    "        max_work = heapq.heappop(works)\n",
    "        heapq.heappush(works, max_work+1)\n",
    "        \n",
    "    # sum([work ** 2 for work in works])        \n",
    "    result = reduce(lambda acc, cur: acc + cur **2, works, 0) # 초기값 설정 중요\n",
    "    return result"
   ]
  },
  {
   "attachments": {
    "image.png": {
     "image/png": "[encoded data removed]"
    }
   },
   "cell_type": "markdown",
   "metadata": {},
   "source": [
    "![image.png](attachment:image.png)"
   ]
  },
  {
   "cell_type": "code",
   "execution_count": null,
   "metadata": {},
   "outputs": [],
   "source": []
  }
 ],
 "metadata": {
  "kernelspec": {
   "display_name": "Python 3",
   "language": "python",
   "name": "python3"
  },
  "language_info": {
   "codemirror_mode": {
    "name": "ipython",
    "version": 3
   },
   "file_extension": ".py",
   "mimetype": "text/x-python",
   "name": "python",
   "nbconvert_exporter": "python",
   "pygments_lexer": "ipython3",
   "version": "3.8.5"
  }
 },
 "nbformat": 4,
 "nbformat_minor": 4
}
