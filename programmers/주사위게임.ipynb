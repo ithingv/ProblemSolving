{
 "cells": [
  {
   "cell_type": "markdown",
   "metadata": {},
   "source": [
    "# 주사위 게임\n",
    "\n",
    "- 직선 모양의 게임 보드\n",
    "- 특별한 주사위 3개\n",
    "- S1, S2, S3의 숫자가 주어짐\n",
    "- 각 주사위는 각각 1 ~ S1, 1 ~ S2, 1 ~ S3까지의 숫자 중 하나가 나오고, 3개의 주사위를 동시에 굴려 나온 숫자의 합 만큼 캐릭터를 이동시킴\n",
    "- 게임 보드의 몇몇 칸에는 몬스터가 있으므로 캐릭터는 도착한 칸에서 몬스터를 만나게 될 경우가 있음"
   ]
  },
  {
   "attachments": {
    "image.png": {
     "image/png": "[encoded data removed]"
    }
   },
   "cell_type": "markdown",
   "metadata": {},
   "source": [
    "![image.png](attachment:image.png)"
   ]
  },
  {
   "cell_type": "markdown",
   "metadata": {},
   "source": [
    "**문제설명**\n",
    "- 위 그림에서 별은 캐릭터이며, 붉은 사각형은 몬스터입니다. 캐릭터는 1번 칸에 있습니다. 주사위를 던져 나온 숫자가 1, 1, 2라면 캐릭터는 총 4칸을 이동하여 5번째 칸에 도착해 몬스터를 만납니다. 반면에 주사위를 던져 나온 숫자가 2, 2, 1이라면 총 5칸을 이동한 캐릭터는 6번째 칸에 도착해 몬스터를 만나지 않습니다. 위 예시에서 주사위를 한 번만 굴렸을 때, 주사위 눈의 합만큼 이동해 도착한 칸에서 몬스터를 만나지 않을 확률은 0.5입니다.\n",
    "\n",
    "\n",
    "- 몬스터의 위치를 담고 있는 배열 monster와 각 주사위에서 나올 수 있는 최대 숫자 S1, S2, S3가 매개변수로 주어질 때, 1번 칸에 위치한 캐릭터가 주사위를 한 번만 굴려 나온 눈금의 합만큼 이동해서 도착한 칸에 몬스터가 없을 확률을 return 하도록 solution 함수를 완성해 주세요. 단, return 값은 몬스터를 만나지 않을 확률에 1000을 곱한 후 소수부는 버리고 정수 부분만 return 하세요.\n",
    "\n",
    "\n",
    "**제한사항**\n",
    "- monster는 몬스터의 위치를 담은 배열이며 길이(몬스터의 개수)는 1 이상 99 이하입니다.\n",
    "- monster의 각 원소는 현재 몬스터의 위치를 나타내며, 모든 몬스터의 위치는 2 이상 100 이하의 자연수입니다.\n",
    "- 같은 위치의 몬스터가 여러 번 중복해서 주어지지 않으며, 한 칸에는 한 마리의 몬스터만 있습니다.\n",
    "- 각 주사위를 던져 나올 수 있는 수의 최댓값 S1, S2, S3는 다음과 같습니다.\n",
    "    - 2 ≤ S1 ≤ 30, 2 ≤ S2 ≤ 30, 2 ≤ S3 ≤ 40, S1, S2, S3는 자연수\n",
    "- 몬스터를 만나지 않을 확률에 1000을 곱한 후 소수부는 버리고 정수 부분만 int형으로 return 해주세요.\n",
    "\n",
    "**입출력예**\n",
    "\n",
    "|monster|S1|S2|S3|result|\n",
    "|:-----:|:--:|:--:|:--:|:---:|\n",
    "|[4,9,5,8]|2|3|4|500|\n",
    "|[4,9,5,8]|2|3|3|555|\n",
    "\n",
    "\n",
    "**입출력 예 설명**\n",
    "\n",
    "- 입출력 예 #1\n",
    "\n",
    "    몬스터의 위치는 문제에 주어진 예시와 같습니다.\n",
    "    몬스터가 없는 칸에 도착할 확률은 1/2로 0.5이며 1000을 곱한 후 소수부를 버리면 500이 됩니다.\n",
    "\n",
    "\n",
    "- 입출력 예 #2\n",
    "\n",
    "    몬스터의 위치는 문제에 주어진 예시와 같습니다.\n",
    "    몬스터가 없는 칸에 도착할 확률은 5/9로 0.55555... 이며 1000을 곱한 후 소수부를 버리면 555가 됩니다."
   ]
  },
  {
   "cell_type": "code",
   "execution_count": 20,
   "metadata": {},
   "outputs": [],
   "source": [
    "S1, S2, S3 = 2, 3, 3\n",
    "monster = [4,9,5,8]\n",
    "items = [[ i + 1 for i in range(S1)], [ i + 1 for i in range(S2)], [ i + 1 for i in range(S3)]] \n",
    "total_case = [sum(comb) for comb in list(product(*items))] # list(map(lambda x: sum(x), list(product(*items))))\n",
    "cand_case = [num+1 for num in total_case if num +1 not in monster]"
   ]
  },
  {
   "cell_type": "code",
   "execution_count": 27,
   "metadata": {},
   "outputs": [],
   "source": [
    "result = (len(cand_case) / total_case) * 1000 "
   ]
  },
  {
   "cell_type": "markdown",
   "metadata": {},
   "source": [
    "**소수부 메소드**\n",
    "\n",
    "- ceil()\n",
    "\n",
    "    ceil() 함수는 소수점 아래의 숫자가 있으면 소수점 아래를 다 버리고 정수부에 1을 더해주는 함수입니다.\n",
    "    \n",
    "    \n",
    "- floor()\n",
    "\n",
    "    floor() 함수는 ceil() 함수와 반대되는 역할을 하며 소수점 아래를 버립니다.\n",
    "    \n",
    "    \n",
    "- round()\n",
    "\n",
    "    round() 함수는 소수점 아래를 버리되 반올림을 해주는 함수입니다. 0.5 이상은 1로 올리고 그 외는 0 으로 내립니다.\n",
    "    \n",
    "\n",
    "**만약 소수점 몇 자리 아래를 버리고 싶다면?**\n",
    "\n",
    "```\n",
    "# 아래 코드는 소수점 아래 3째 자리 까지만 남겨두고 그 아래는 버리는 코드입니다.\n",
    "import math\n",
    "input = 10.123456789\n",
    "output = math.floor(input * 1000) / 1000\n",
    "```"
   ]
  },
  {
   "cell_type": "code",
   "execution_count": 30,
   "metadata": {},
   "outputs": [],
   "source": [
    "# 소수점 버리기\n",
    "import math\n",
    "result = math.floor(result)"
   ]
  },
  {
   "cell_type": "code",
   "execution_count": 31,
   "metadata": {},
   "outputs": [
    {
     "data": {
      "text/plain": [
       "555"
      ]
     },
     "execution_count": 31,
     "metadata": {},
     "output_type": "execute_result"
    }
   ],
   "source": [
    "result"
   ]
  },
  {
   "cell_type": "code",
   "execution_count": 32,
   "metadata": {},
   "outputs": [],
   "source": [
    "# 답안 1\n",
    "from itertools import product\n",
    "\n",
    "def solution(monster, S1, S2, S3):\n",
    "    \n",
    "    s1 = [ i + 1 for i in range(S1)]\n",
    "    s2 = [ i + 1 for i in range(S2)]\n",
    "    s3 = [ i + 1 for i in range(S3)]\n",
    "        \n",
    "    S = [s1,s2,s3]\n",
    "    \n",
    "    move_comb = list(product(*S))\n",
    "    move_comb = [ x + y + z for x,y,z in move_comb]        \n",
    "\n",
    "    count = 0\n",
    "\n",
    "    for i in range(len(monster)):\n",
    "        find_value = monster[i] - 1\n",
    "        \n",
    "        for move in move_comb:\n",
    "            if move == find_value:\n",
    "                count += 1\n",
    "    \n",
    "    answer = (len(move_comb) - count) / len(move_comb)\n",
    "    \n",
    "    return int(answer * 1000)"
   ]
  },
  {
   "cell_type": "code",
   "execution_count": 34,
   "metadata": {},
   "outputs": [],
   "source": [
    "# 답안 2\n",
    "from itertools import product\n",
    "import math\n",
    "\n",
    "def solution(monster, S1, S2, S3):\n",
    "    \n",
    "    s1 = [ i + 1 for i in range(S1)]\n",
    "    s2 = [ i + 1 for i in range(S2)]\n",
    "    s3 = [ i + 1 for i in range(S3)]\n",
    "        \n",
    "    S = [s1,s2,s3]\n",
    "    total_case = [sum(cand) for cand in list(product(*S))]\n",
    "    cand_case = [num+1 for num in total_case if num + 1 not in monster]\n",
    "    \n",
    "    return math.floor((len(cand_case) / len(total_case)) * 1000)"
   ]
  },
  {
   "cell_type": "code",
   "execution_count": null,
   "metadata": {},
   "outputs": [],
   "source": [
    "# 답안 3\n",
    "from itertools import product\n",
    "\n",
    "def solution(monster, S1, S2, S3):\n",
    "    p = product(range(S1), range(S2), range(S3))\n",
    "    case = len([x for x in p if sum(x) + 4 not in monster])\n",
    "    return int(case / (S1 * S2 * S3) * 1000)"
   ]
  },
  {
   "attachments": {
    "image.png": {
     "image/png": "[encoded data removed]"
    }
   },
   "cell_type": "markdown",
   "metadata": {},
   "source": [
    "![image.png](attachment:image.png)"
   ]
  }
 ],
 "metadata": {
  "kernelspec": {
   "display_name": "Python 3",
   "language": "python",
   "name": "python3"
  },
  "language_info": {
   "codemirror_mode": {
    "name": "ipython",
    "version": 3
   },
   "file_extension": ".py",
   "mimetype": "text/x-python",
   "name": "python",
   "nbconvert_exporter": "python",
   "pygments_lexer": "ipython3",
   "version": "3.8.5"
  }
 },
 "nbformat": 4,
 "nbformat_minor": 4
}
