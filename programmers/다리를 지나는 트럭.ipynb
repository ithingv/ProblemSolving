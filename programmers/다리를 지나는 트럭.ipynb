{
 "cells": [
  {
   "cell_type": "markdown",
   "metadata": {},
   "source": [
    "# 다리를 지나는 트럭\n",
    "\n",
    "**문제 설명**\n",
    "\n",
    "트럭 여러 대가 강을 가로지르는 일차선 다리를 정해진 순으로 건너려 합니다. 모든 트럭이 다리를 건너려면 최소 몇 초가 걸리는지 알아내야 합니다. 다리에는 트럭이 최대 bridge_length대 올라갈 수 있으며, 다리는 weight 이하까지의 무게를 견딜 수 있습니다. 단, 다리에 완전히 오르지 않은 트럭의 무게는 무시합니다.\n",
    "\n",
    "예를 들어, 트럭 2대가 올라갈 수 있고 무게를 10kg까지 견디는 다리가 있습니다. 무게가 [7, 4, 5, 6]kg인 트럭이 순서대로 최단 시간 안에 다리를 건너려면 다음과 같이 건너야 합니다.\n",
    "\n",
    "|경과 시간\t|다리를 지난 트럭|\t다리를 건너는 트럭|\t대기 트럭|\n",
    "|:---:|:---:|:---:|:---:|\n",
    "|0\t|[]|\t[]|\t[7,4,5,6]|\n",
    "|1~2|\t[]\t|[7]|\t[4,5,6]|\n",
    "|3|\t[7]|\t[4]|\t[5,6]|\n",
    "|4|\t[7]|\t[4,5]|\t[6]|\n",
    "|5|\t[7,4]|\t[5]|\t[6]|\n",
    "|6~7|\t[7,4,5]|\t[6]|\t[]|\n",
    "|8|\t[7,4,5,6]|\t[]|\t[]|\n",
    "\n",
    "따라서, 모든 트럭이 다리를 지나려면 최소 8초가 걸립니다.\n",
    "\n",
    "`solution` 함수의 매개변수로 다리에 올라갈 수 있는 트럭 수 `bridge_length`, 다리가 견딜 수 있는 무게 `weight`, 트럭 별 무게 `truck_weights`가 주어집니다. 이때 모든 트럭이 다리를 건너려면 최소 몇 초가 걸리는지 return 하도록 solution 함수를 완성하세요.\n",
    "\n",
    "**제한 조건**\n",
    "\n",
    "- bridge_length는 1 이상 10,000 이하입니다.\n",
    "- weight는 1 이상 10,000 이하입니다.\n",
    "- truck_weights의 길이는 1 이상 10,000 이하입니다.\n",
    "\n",
    "모든 트럭의 무게는 1 이상 weight 이하입니다.\n",
    "\n",
    "**입출력 예**\n",
    "\n",
    "|bridge_length|\tweight|\ttruck_weights|\treturn|\n",
    "|:---:|:---:|:---:|:---:|\n",
    "|2\t|10|\t[7,4,5,6]|\t8|\n",
    "|100|\t100|\t[10]|\t101|\n",
    "|100|\t100|\t[10,10,10,10,10,10,10,10,10,10]|\t110|\n"
   ]
  },
  {
   "cell_type": "code",
   "execution_count": 88,
   "metadata": {},
   "outputs": [],
   "source": [
    "from collections import deque\n",
    "\n",
    "def solution(bridge_length, weight, truck_weights):\n",
    "    \n",
    "    answer = 0\n",
    "    truck_weights = deque(truck_weights)    \n",
    "    bridge_queue = deque()\n",
    "    answer = []\n",
    "    max_num = len(truck_weights)\n",
    "    t = 0 # 경과시간\n",
    "    flag = True\n",
    "    \n",
    "    while True:\n",
    "        \n",
    "        # 종료조건(트럭이 다리를 다 건너옴)\n",
    "        if len(answer) == max_num:\n",
    "            break\n",
    "                   \n",
    "        # 대기트럭(truck_weights) --> 다리(bridge_queue)\n",
    "        while truck_weights and flag:\n",
    "            # 개수조건(트럭은 최대 bridge_length 대까지 올라갈 수 있음)\n",
    "            num_cond = True if len(bridge_queue) + 1 <= bridge_length else False\n",
    "            # 무게조건(# 다리는 weights 이하까지의 무게를 견딜 수 있음)\n",
    "            weight_cond = True if sum(bridge_queue) + truck_weights[0] <= weight else False\n",
    "            t += 1\n",
    "            if num_cond and weight_cond:\n",
    "                bridge_queue.append(truck_weights.popleft())\n",
    "                flag = False if not truck_weights else True\n",
    "            else:\n",
    "                # 개수, 무게 조건 미충족\n",
    "                flag = False\n",
    "        \n",
    "        # 다리통과(bridge_queue ---> answer)\n",
    "\n",
    "#         if not truck_weights:\n",
    "#             flag = False\n",
    "\n",
    "        while bridge_queue and flag is False:\n",
    "        \n",
    "            if truck_weights:\n",
    "                answer.append(bridge_queue.popleft())\n",
    "                flag = True\n",
    "            else:\n",
    "                answer.append(bridge_queue.popleft())\n",
    "                t += 1\n",
    "                flag = False\n",
    "        \n",
    "    # 모든 트럭이 다리를 건너려면 최소 몇 초가 걸리는지 알아내야 합니다.\n",
    "    return t"
   ]
  },
  {
   "cell_type": "code",
   "execution_count": 89,
   "metadata": {},
   "outputs": [
    {
     "data": {
      "text/plain": [
       "8"
      ]
     },
     "execution_count": 89,
     "metadata": {},
     "output_type": "execute_result"
    }
   ],
   "source": [
    "bridge_length = 2\n",
    "weight = 10\n",
    "truck_weights = [7,4,5,6]\n",
    "solution(bridge_length, weight, truck_weights)"
   ]
  },
  {
   "cell_type": "code",
   "execution_count": 90,
   "metadata": {},
   "outputs": [
    {
     "data": {
      "text/plain": [
       "2"
      ]
     },
     "execution_count": 90,
     "metadata": {},
     "output_type": "execute_result"
    }
   ],
   "source": [
    "bridge_length = 100\n",
    "weight = 100\n",
    "truck_weights = [10]\n",
    "solution(bridge_length, weight, truck_weights)"
   ]
  },
  {
   "cell_type": "code",
   "execution_count": 91,
   "metadata": {},
   "outputs": [
    {
     "data": {
      "text/plain": [
       "20"
      ]
     },
     "execution_count": 91,
     "metadata": {},
     "output_type": "execute_result"
    }
   ],
   "source": [
    "bridge_length = 100\n",
    "weight = 100\n",
    "truck_weights = [10,10,10,10,10,10,10,10,10,10]\n",
    "solution(bridge_length, weight, truck_weights)"
   ]
  },
  {
   "cell_type": "code",
   "execution_count": 29,
   "metadata": {},
   "outputs": [
    {
     "data": {
      "text/plain": [
       "True"
      ]
     },
     "execution_count": 29,
     "metadata": {},
     "output_type": "execute_result"
    }
   ],
   "source": [
    "num_cond"
   ]
  },
  {
   "cell_type": "code",
   "execution_count": null,
   "metadata": {},
   "outputs": [],
   "source": []
  },
  {
   "cell_type": "code",
   "execution_count": 36,
   "metadata": {},
   "outputs": [
    {
     "data": {
      "text/plain": [
       "True"
      ]
     },
     "execution_count": 36,
     "metadata": {},
     "output_type": "execute_result"
    }
   ],
   "source": [
    "a = [1,2,3]\n",
    "b = [1,2,3]\n",
    "weight = 10\n",
    "True if sum(a) + b[0] <= weight else False"
   ]
  },
  {
   "cell_type": "code",
   "execution_count": 6,
   "metadata": {},
   "outputs": [
    {
     "ename": "IndentationError",
     "evalue": "expected an indented block (<ipython-input-6-09aafd5dc5a8>, line 22)",
     "output_type": "error",
     "traceback": [
      "\u001b[1;36m  File \u001b[1;32m\"<ipython-input-6-09aafd5dc5a8>\"\u001b[1;36m, line \u001b[1;32m22\u001b[0m\n\u001b[1;33m    if cond1 and cond2:\u001b[0m\n\u001b[1;37m    ^\u001b[0m\n\u001b[1;31mIndentationError\u001b[0m\u001b[1;31m:\u001b[0m expected an indented block\n"
     ]
    }
   ],
   "source": []
  },
  {
   "cell_type": "code",
   "execution_count": 4,
   "metadata": {},
   "outputs": [],
   "source": [
    "from collections import Counter"
   ]
  },
  {
   "cell_type": "code",
   "execution_count": 5,
   "metadata": {},
   "outputs": [
    {
     "data": {
      "text/plain": [
       "2"
      ]
     },
     "execution_count": 5,
     "metadata": {},
     "output_type": "execute_result"
    }
   ],
   "source": [
    "b = [2,1,2,3]\n",
    "\n",
    "b.count(2)"
   ]
  },
  {
   "cell_type": "code",
   "execution_count": 45,
   "metadata": {},
   "outputs": [
    {
     "name": "stdout",
     "output_type": "stream",
     "text": [
      "[(10, 100), (10, 100), (10, 100), (10, 100), (10, 100), (10, 100), (10, 100), (10, 100), (10, 100), (10, 100)]\n",
      "20\n"
     ]
    }
   ],
   "source": [
    "# 필요한 변수\n",
    "truck_weights = [10,10,10,10,10,10,10,10,10,10]\n",
    "bridge_length = 100\n",
    "bridge_queue = []\n",
    "weight = 100\n",
    "exit = []\n",
    "total_time = 0\n",
    "\n",
    "while truck_weights or bridge_queue:\n",
    "    \n",
    "            \n",
    "    if truck_weights:\n",
    "    # 조건 만족\n",
    "        # 개수조건(트럭은 최대 bridge_length 대까지 올라갈 수 있음)\n",
    "        num_cond = True if len(bridge_queue) + 1 <= bridge_length else False\n",
    "        # 무게조건(# 다리는 weights 이하까지의 무게를 견딜 수 있음)\n",
    "        weight_cond = True if sum([x for x, y in bridge_queue]) + truck_weights[0] <= weight else False\n",
    "        \n",
    "        if num_cond and weight_cond:\n",
    "            truck_weight = truck_weights.pop(0)\n",
    "            bridge_queue.append((truck_weight, 1))\n",
    "            total_time += 1\n",
    "        else:\n",
    "            total_time += 1\n",
    "        \n",
    "    if bridge_queue:\n",
    "        \n",
    "        # bridge_queue에 있는 기존 위치를 +1 이동\n",
    "        bridge_queue = [(item[0], item[1] + 1) for item in bridge_queue]\n",
    "        \n",
    "        # bridge_length로 도달한 트럭은 queue에서 exit으로 이동\n",
    "        if bridge_queue[0][1] == bridge_length:\n",
    "            exit.append(bridge_queue.pop(0))\n",
    "\n",
    "            total_time += 1\n",
    "        \n",
    "print(exit)\n",
    "print(total_time)"
   ]
  },
  {
   "cell_type": "code",
   "execution_count": 59,
   "metadata": {},
   "outputs": [
    {
     "name": "stdout",
     "output_type": "stream",
     "text": [
      "[(10, 100)]\n",
      "101\n"
     ]
    }
   ],
   "source": [
    "# 필요한 변수\n",
    "# truck_weights = [7,4,5,6]\n",
    "# bridge_length = 2\n",
    "# bridge_queue = []\n",
    "# weight = 10\n",
    "# exit = []\n",
    "# total_time = 0\n",
    "\n",
    "truck_weights = [10]\n",
    "bridge_length = 100\n",
    "bridge_queue = []\n",
    "weight = 100\n",
    "exit = []\n",
    "total_time = 0\n",
    "\n",
    "# truck_weights = [10,10,10,10,10,10,10,10,10,10]\n",
    "# bridge_length = 100\n",
    "# bridge_queue = []\n",
    "# weight = 100\n",
    "# exit = []\n",
    "# total_time = 0\n",
    "\n",
    "while truck_weights or bridge_queue:\n",
    "    \n",
    "    \n",
    "    # 트럭을 다리로 옮겨주는 로직    \n",
    "    if len(truck_weights) == 1: \n",
    "        num_cond = True if len(bridge_queue) + 1 <= bridge_length else False\n",
    "        # 무게조건(# 다리는 weights 이하까지의 무게를 견딜 수 있음)\n",
    "        weight_cond = True if sum([x for x, y in bridge_queue]) + truck_weights[0] <= weight else False\n",
    "        \n",
    "        if num_cond and weight_cond:\n",
    "            truck_weight = truck_weights.pop(0)\n",
    "            bridge_queue.append((truck_weight, 1))\n",
    "        total_time = total_time + bridge_length\n",
    "        \n",
    "    elif truck_weights:\n",
    "    # 조건 만족\n",
    "        # 개수조건(트럭은 최대 bridge_length 대까지 올라갈 수 있음)\n",
    "        num_cond = True if len(bridge_queue) + 1 <= bridge_length else False\n",
    "        # 무게조건(# 다리는 weights 이하까지의 무게를 견딜 수 있음)\n",
    "        weight_cond = True if sum([x for x, y in bridge_queue]) + truck_weights[0] <= weight else False\n",
    "        \n",
    "        if num_cond and weight_cond:\n",
    "            truck_weight = truck_weights.pop(0)\n",
    "            bridge_queue.append((truck_weight, 1))\n",
    "#             total_time += 1\n",
    "#        else:\n",
    "#             total_time += 1\n",
    "    # 촤고의 영감은 마감이다\n",
    "        \n",
    "    if bridge_queue:\n",
    "        \n",
    "        # bridge_queue에 있는 기존 위치를 +1 이동\n",
    "        bridge_queue = [(item[0], item[1] + 1) for item in bridge_queue]\n",
    "        \n",
    "        # bridge_length로 도달한 트럭은 queue에서 exit으로 이동\n",
    "        if bridge_queue[0][1] == bridge_length:\n",
    "            exit.append(bridge_queue.pop(0))\n",
    "\n",
    "            total_time += 1\n",
    "        \n",
    "print(exit)\n",
    "print(total_time)"
   ]
  },
  {
   "cell_type": "code",
   "execution_count": null,
   "metadata": {},
   "outputs": [],
   "source": [
    "# 개수조건(트럭은 최대 bridge_length 대까지 올라갈 수 있음)\n",
    "num_cond = True if len(bridge_queue) + 1 <= bridge_length else False\n",
    "# 무게조건(# 다리는 weights 이하까지의 무게를 견딜 수 있음)\n",
    "weight_cond = True if sum(bridge_queue) + truck_weights[0] <= weight else False\n"
   ]
  },
  {
   "cell_type": "code",
   "execution_count": null,
   "metadata": {},
   "outputs": [],
   "source": []
  },
  {
   "cell_type": "code",
   "execution_count": 11,
   "metadata": {},
   "outputs": [],
   "source": [
    "from functools import reduce\n",
    "bridge_queue = [(1,2), (3,4),(5,6)]"
   ]
  },
  {
   "cell_type": "code",
   "execution_count": 19,
   "metadata": {},
   "outputs": [
    {
     "data": {
      "text/plain": [
       "9"
      ]
     },
     "execution_count": 19,
     "metadata": {},
     "output_type": "execute_result"
    }
   ],
   "source": [
    "reduce(lambda x, y: (x[0] + y[0], x[1] + y[1]), bridge_queue)[0]"
   ]
  },
  {
   "cell_type": "code",
   "execution_count": 22,
   "metadata": {},
   "outputs": [
    {
     "data": {
      "text/plain": [
       "0"
      ]
     },
     "execution_count": 22,
     "metadata": {},
     "output_type": "execute_result"
    }
   ],
   "source": [
    "sum([])"
   ]
  },
  {
   "cell_type": "code",
   "execution_count": 29,
   "metadata": {},
   "outputs": [],
   "source": [
    "bridge_queue = [(1,2), (3,4),(5,6)]"
   ]
  },
  {
   "cell_type": "code",
   "execution_count": 30,
   "metadata": {},
   "outputs": [
    {
     "data": {
      "text/plain": [
       "[1, 3, 5]"
      ]
     },
     "execution_count": 30,
     "metadata": {},
     "output_type": "execute_result"
    }
   ],
   "source": [
    "[x for x, y in bridge_queue]"
   ]
  },
  {
   "cell_type": "code",
   "execution_count": null,
   "metadata": {},
   "outputs": [],
   "source": []
  }
 ],
 "metadata": {
  "kernelspec": {
   "display_name": "Python 3",
   "language": "python",
   "name": "python3"
  },
  "language_info": {
   "codemirror_mode": {
    "name": "ipython",
    "version": 3
   },
   "file_extension": ".py",
   "mimetype": "text/x-python",
   "name": "python",
   "nbconvert_exporter": "python",
   "pygments_lexer": "ipython3",
   "version": "3.8.5"
  }
 },
 "nbformat": 4,
 "nbformat_minor": 4
}
