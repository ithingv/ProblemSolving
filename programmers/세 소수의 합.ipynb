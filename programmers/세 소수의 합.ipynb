{
 "cells": [
  {
   "cell_type": "markdown",
   "metadata": {},
   "source": [
    "# 세 소수의 합\n",
    "\n",
    "**문제 설명**\n",
    "\n",
    "    어떤 수를 서로 다른 소수 3개의 합으로 표현하는 경우의 수를 구하려 합니다. 예를 들어 33은 총 4가지 방법으로 표현할 수 있습니다.\n",
    "\n",
    "    3+7+23\n",
    "    3+11+19\n",
    "    3+13+17\n",
    "    5+11+17\n",
    "\n",
    "    자연수 n이 매개변수로 주어질 때, n을 서로 다른 소수 3개의 합으로 표현하는 경우의 수를 return 하는 solution 함수를 작성해주세요.\n",
    "\n",
    "**제한 조건**\n",
    "\n",
    "- n은 1,000 이하인 자연수입니다.\n",
    "\n",
    "**입출력 예**\n",
    "\n",
    "|n\t|return|\n",
    "|:--:|:---:|\n",
    "|33|\t4|\n",
    "|9|\t0|\n",
    "\n",
    "**입출력 예 설명**\n",
    "\n",
    "예시 #1\n",
    "\n",
    "    문제에 나온 예와 같습니다.\n",
    "\n",
    "예시 #2\n",
    "\n",
    "    9는 서로 다른 세 소수의 합으로 나타낼 수 없습니다."
   ]
  },
  {
   "cell_type": "code",
   "execution_count": 4,
   "metadata": {},
   "outputs": [],
   "source": [
    "# 답안 1\n",
    "from itertools import combinations\n",
    "\n",
    "def solution(n):\n",
    "    \n",
    "    a = [False,False] + [True]*(n-1)\n",
    "    primes=[]\n",
    "\n",
    "    for i in range(2,n+1):\n",
    "          if a[i]:\n",
    "            primes.append(i)\n",
    "            for j in range(2*i, n+1, i):\n",
    "                a[j] = False\n",
    "    \n",
    "    count = 0\n",
    "    for cand in list(combinations(primes, 3)):        \n",
    "        if sum(cand) == n:\n",
    "            count += 1\n",
    "            \n",
    "    return count"
   ]
  },
  {
   "cell_type": "code",
   "execution_count": 5,
   "metadata": {},
   "outputs": [],
   "source": [
    "# 답안 2\n",
    "from itertools import combinations\n",
    "\n",
    "def get_primes(n):\n",
    "    primes = []\n",
    "    for i in range(2, n):\n",
    "        for j in range(2, int(i ** 0.5) + 1):\n",
    "            if i % j == 0:\n",
    "                break\n",
    "        else:\n",
    "            primes.append(i)\n",
    "\n",
    "    return primes\n",
    "\n",
    "def solution(n):\n",
    "    primes = get_primes(n)\n",
    "    \n",
    "    return [sum(c) for c in combinations(primes, 3)].count(n)"
   ]
  },
  {
   "cell_type": "code",
   "execution_count": 6,
   "metadata": {},
   "outputs": [],
   "source": [
    "# Test Case 1\n",
    "\n",
    "n = 33\n",
    "assert 4 == solution(33)"
   ]
  },
  {
   "cell_type": "code",
   "execution_count": 7,
   "metadata": {},
   "outputs": [],
   "source": [
    "# Test Case 2\n",
    "\n",
    "n = 9\n",
    "assert 0 == solution(n)"
   ]
  },
  {
   "attachments": {
    "image.png": {
     "image/png": "[encoded data removed]"
    }
   },
   "cell_type": "markdown",
   "metadata": {},
   "source": [
    "![image.png](attachment:image.png)"
   ]
  }
 ],
 "metadata": {
  "kernelspec": {
   "display_name": "Python 3",
   "language": "python",
   "name": "python3"
  },
  "language_info": {
   "codemirror_mode": {
    "name": "ipython",
    "version": 3
   },
   "file_extension": ".py",
   "mimetype": "text/x-python",
   "name": "python",
   "nbconvert_exporter": "python",
   "pygments_lexer": "ipython3",
   "version": "3.8.5"
  }
 },
 "nbformat": 4,
 "nbformat_minor": 4
}
