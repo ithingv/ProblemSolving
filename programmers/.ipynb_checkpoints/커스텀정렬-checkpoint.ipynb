{
 "cells": [
  {
   "cell_type": "code",
   "execution_count": 2,
   "metadata": {},
   "outputs": [
    {
     "name": "stdout",
     "output_type": "stream",
     "text": [
      "[[13, 'b'], [10, 'a'], [10, 'b'], [4, 'c'], [1, 'd']]\n"
     ]
    }
   ],
   "source": [
    "from functools import cmp_to_key\n",
    "\n",
    "def compare(x, y):\n",
    "    if(x[0] < y[0]): return 1 # y 내용을 앞으로 보냄\n",
    "    elif(x[0] > y[0]): return -1\n",
    "    else: # x[0] 값이 y[0]값과 동일하면\n",
    "        if(x[1] < y[1]): return -1 # x 내용을 앞으로 보냄\n",
    "        elif(x[1] > y[1]): return 1\n",
    "        else: return 0\n",
    "\n",
    "sample = [[4,'c'], [10, 'b'], [13, 'b'], [1, 'd'], [10, 'a']]\n",
    "print(sorted(sample, key=cmp_to_key(compare)))"
   ]
  },
  {
   "cell_type": "code",
   "execution_count": 6,
   "metadata": {},
   "outputs": [
    {
     "name": "stdout",
     "output_type": "stream",
     "text": [
      "original sort: [[1, 'd'], [4, 'c'], [10, 'a'], [10, 'b'], [13, 'b']]\n",
      "custom sort:[[13, 'b'], [10, 'a'], [10, 'b'], [4, 'c'], [1, 'd']]\n"
     ]
    }
   ],
   "source": [
    "from functools import cmp_to_key\n",
    "\n",
    "def compare(x, y):\n",
    "    if x[0] < y[0]: # x[0] 값이 y[0]값 보다 작으면\n",
    "        return 1 # y 내용을 앞으로 보냄\n",
    "    elif x[0] > y[0]:\n",
    "        return -1\n",
    "    else: # x[0] 값이 y[0]값과 동일하면\n",
    "        if x[1] < y[1]: # x[1]과 y[1]을 비교해서 y[1]이 크면\n",
    "            return -1 # x 내용을 앞으로 보냄\n",
    "        elif x[1] > y[1]:\n",
    "            return 1\n",
    "        else:\n",
    "            return 0\n",
    "\n",
    "print(f\"original sort: {sorted(sample)}\")\n",
    "sample = [[4,'c'], [10, 'b'], [13, 'b'], [1, 'd'], [10, 'a']]\n",
    "print(f\"custom sort:{sorted(sample, key=cmp_to_key(compare))}\")"
   ]
  },
  {
   "cell_type": "code",
   "execution_count": 15,
   "metadata": {},
   "outputs": [
    {
     "data": {
      "text/plain": [
       "[50, 28, 17, 12, 121]"
      ]
     },
     "execution_count": 15,
     "metadata": {},
     "output_type": "execute_result"
    }
   ],
   "source": [
    "nums = [28, 50, 17, 12, 121]\n",
    "nums.sort(key=cmp_to_key(lambda x, y: 1 if str(x)+str(y) < str(y)+str(x) else -1))\n",
    "nums"
   ]
  },
  {
   "cell_type": "code",
   "execution_count": 11,
   "metadata": {},
   "outputs": [],
   "source": [
    "# 작업중이라면,\n",
    "# working = True\n",
    "# prev_job = runnging_queue.popleft()\n",
    "# 작업기간 = [prev_job[0], prev_job[0] + prev_job[1]]\n",
    "\n",
    "# 요청 시간이 작업기간 내인 경우 소요시간이 작은 순서대로 정렬\n",
    "\n",
    "# x랑 y는 다른값\n",
    "# x[0] 기준 - 요청 시간에 대한 기준\n",
    "# x[1] 기준 - 소요 시간에 대한 기준\n",
    "\n",
    "def valid_range(a, b, num):\n",
    "    return True if a<= num <=b else False\n",
    "\n",
    "def custom_sort(x, y, prev_job):\n",
    "    prev_request_time = prev_job[0]\n",
    "    prev_finished_time = prev_job[0] + prev_job[1] \n",
    "    \n",
    "    # 둘 다 요청시간 내에 있는 경우\n",
    "    if valid_range(prev_request_time, prev_finished_time, x[0]) and valid_range(prev_request_time, prev_finished_time, x[0]):\n",
    "        if x[1] < y[1]: # x[1]과 y[1]을 비교해서 y[1]이 크면\n",
    "            return -1 # x 내용을 앞으로 보냄\n",
    "        elif x[1] > y[1]:\n",
    "            return 1\n",
    "        else:\n",
    "            return 0\n",
    "        \n",
    "    # x만 요청시간 내에 있는 경우\n",
    "    elif valid_range(prev_request_time, prev_finished_time, x[0]) and not valid_range(prev_request_time, prev_finished_time, y[0]):\n",
    "        return -1\n",
    "    # y만 요청시간 내에 있는 경우\n",
    "    else:\n",
    "        return 1"
   ]
  },
  {
   "cell_type": "code",
   "execution_count": 13,
   "metadata": {},
   "outputs": [
    {
     "ename": "TypeError",
     "evalue": "cmp_to_key() takes at most 1 argument (2 given)",
     "output_type": "error",
     "traceback": [
      "\u001b[1;31m---------------------------------------------------------------------------\u001b[0m",
      "\u001b[1;31mTypeError\u001b[0m                                 Traceback (most recent call last)",
      "\u001b[1;32m<ipython-input-13-97aaeeff1b37>\u001b[0m in \u001b[0;36m<module>\u001b[1;34m\u001b[0m\n\u001b[0;32m      1\u001b[0m \u001b[0msample\u001b[0m \u001b[1;33m=\u001b[0m \u001b[1;33m[\u001b[0m\u001b[1;33m[\u001b[0m\u001b[1;36m1\u001b[0m\u001b[1;33m,\u001b[0m \u001b[1;36m9\u001b[0m\u001b[1;33m]\u001b[0m\u001b[1;33m,\u001b[0m \u001b[1;33m[\u001b[0m\u001b[1;36m2\u001b[0m\u001b[1;33m,\u001b[0m \u001b[1;36m6\u001b[0m\u001b[1;33m]\u001b[0m\u001b[1;33m]\u001b[0m\u001b[1;33m\u001b[0m\u001b[1;33m\u001b[0m\u001b[0m\n\u001b[1;32m----> 2\u001b[1;33m \u001b[0mprint\u001b[0m\u001b[1;33m(\u001b[0m\u001b[0msorted\u001b[0m\u001b[1;33m(\u001b[0m\u001b[0msample\u001b[0m\u001b[1;33m,\u001b[0m \u001b[0mkey\u001b[0m\u001b[1;33m=\u001b[0m\u001b[0mcmp_to_key\u001b[0m\u001b[1;33m(\u001b[0m\u001b[0mcustom_sort\u001b[0m\u001b[1;33m,\u001b[0m \u001b[1;33m[\u001b[0m\u001b[1;36m0\u001b[0m\u001b[1;33m,\u001b[0m\u001b[1;36m3\u001b[0m\u001b[1;33m]\u001b[0m\u001b[1;33m)\u001b[0m\u001b[1;33m)\u001b[0m\u001b[1;33m)\u001b[0m\u001b[1;33m\u001b[0m\u001b[1;33m\u001b[0m\u001b[0m\n\u001b[0m",
      "\u001b[1;31mTypeError\u001b[0m: cmp_to_key() takes at most 1 argument (2 given)"
     ]
    }
   ],
   "source": [
    "\n",
    "sample = [[1, 9], [2, 6]]\n",
    "print(sorted(sample, key=cmp_to_key(custom_sort, [0,3])))"
   ]
  },
  {
   "cell_type": "code",
   "execution_count": 17,
   "metadata": {},
   "outputs": [],
   "source": [
    "def sort_priority(values, groups):\n",
    "    def helper(x):\n",
    "        if x in groups:\n",
    "            return (0, x)\n",
    "        return (1,x)\n",
    "    values.sort(key=helper)"
   ]
  },
  {
   "cell_type": "code",
   "execution_count": 18,
   "metadata": {},
   "outputs": [
    {
     "name": "stdout",
     "output_type": "stream",
     "text": [
      "[2, 3, 5, 7, 1, 4, 6, 8]\n"
     ]
    }
   ],
   "source": [
    "numbers = [8, 3, 1, 2, 5, 4, 7, 6]\n",
    "group = {2, 3, 5, 7}\n",
    "sort_priority(numbers, group)\n",
    "print(numbers)"
   ]
  },
  {
   "cell_type": "code",
   "execution_count": 23,
   "metadata": {},
   "outputs": [
    {
     "name": "stdout",
     "output_type": "stream",
     "text": [
      "[[1, 2], [2, 3], [3, 1], [4, 5], [5, 4], [6, 7], [7, 6], [8, 0]]\n"
     ]
    }
   ],
   "source": [
    "# 튜플로 정렬\n",
    "\n",
    "def sort_priority_2(values, groups):\n",
    "    def helper(x):\n",
    "        add = x[0] + x[1]\n",
    "        if add in groups:\n",
    "            return (0, x)\n",
    "        return (1,x)\n",
    "    values.sort(key=helper)\n",
    "\n",
    "numbers = [[8,0], [3,1], [1,2], [2,3], [5,4], [4,5], [7,6], [6,7]]\n",
    "group = {2, 3, 5, 7}\n",
    "sort_priority_2(numbers, group)\n",
    "print(numbers)"
   ]
  },
  {
   "cell_type": "code",
   "execution_count": null,
   "metadata": {},
   "outputs": [],
   "source": [
    "# 튜플로 정렬\n",
    "\n",
    "def sort_priority_3(values, groups):\n",
    "    def helper(x):\n",
    "        add = x[0] + x[1]\n",
    "        if add in groups:\n",
    "            return (0, x)\n",
    "        return (1,x)\n",
    "    values.sort(key=helper)\n",
    "\n",
    "numbers = [[8,0], [3,1], [1,2], [2,3], [5,4], [4,5], [7,6], [6,7]]\n",
    "group = {2, 3, 5, 7}\n",
    "sort_priority_2(numbers, group)\n",
    "print(numbers)"
   ]
  },
  {
   "cell_type": "code",
   "execution_count": null,
   "metadata": {},
   "outputs": [],
   "source": [
    "def valid_range(a, b, num):\n",
    "    return True if a<= num <=b else False\n",
    "\n",
    "def custom_sort(x, y, prev_job):\n",
    "    prev_request_time = prev_job[0]\n",
    "    prev_finished_time = prev_job[0] + prev_job[1] \n",
    "    \n",
    "    # 둘 다 요청시간 내에 있는 경우\n",
    "    if valid_range(prev_request_time, prev_finished_time, x[0]) and valid_range(prev_request_time, prev_finished_time, x[0]):\n",
    "        if x[1] < y[1]: # x[1]과 y[1]을 비교해서 y[1]이 크면\n",
    "            return -1 # x 내용을 앞으로 보냄\n",
    "        elif x[1] > y[1]:\n",
    "            return 1\n",
    "        else:\n",
    "            return 0\n",
    "        \n",
    "    # x만 요청시간 내에 있는 경우\n",
    "    elif valid_range(prev_request_time, prev_finished_time, x[0]) and not valid_range(prev_request_time, prev_finished_time, y[0]):\n",
    "        return -1\n",
    "    # y만 요청시간 내에 있는 경우\n",
    "    else:\n",
    "        return 1"
   ]
  },
  {
   "cell_type": "code",
   "execution_count": 25,
   "metadata": {},
   "outputs": [
    {
     "name": "stdout",
     "output_type": "stream",
     "text": [
      "[[2, 4], [3, 1], [4, 10], [6, 10]]\n"
     ]
    }
   ],
   "source": [
    "def sort_priority_4(values, prev_job):\n",
    "    prev_request_time = prev_job[0]\n",
    "    prev_finished_time = prev_job[0] + prev_job[1] \n",
    "    \n",
    "    def helper(x):\n",
    "        if valid_range(prev_request_time, prev_finished_time, x[0]):\n",
    "            if \n",
    "            return (1, x)\n",
    "        return (2,x)\n",
    "    values.sort(key=helper)\n",
    "\n",
    "numbers = [[6,10], [2,4], [4,10], [3,1]]\n",
    "sort_priority_4(numbers, [0,5])\n",
    "print(numbers)"
   ]
  },
  {
   "cell_type": "code",
   "execution_count": null,
   "metadata": {},
   "outputs": [],
   "source": []
  }
 ],
 "metadata": {
  "kernelspec": {
   "display_name": "Python 3",
   "language": "python",
   "name": "python3"
  },
  "language_info": {
   "codemirror_mode": {
    "name": "ipython",
    "version": 3
   },
   "file_extension": ".py",
   "mimetype": "text/x-python",
   "name": "python",
   "nbconvert_exporter": "python",
   "pygments_lexer": "ipython3",
   "version": "3.8.5"
  }
 },
 "nbformat": 4,
 "nbformat_minor": 4
}
