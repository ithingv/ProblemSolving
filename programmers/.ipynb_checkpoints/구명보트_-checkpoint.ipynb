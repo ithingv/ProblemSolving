{
 "cells": [
  {
   "cell_type": "markdown",
   "metadata": {},
   "source": [
    "# 구명보트\n",
    "\n",
    "**문제 설명**\n",
    "\n",
    "    무인도에 갇힌 사람들을 구명보트를 이용하여 구출하려고 합니다. 구명보트는 작아서 한 번에 최대 2명씩 밖에 탈 수 없고, 무게 제한도 있습니다.\n",
    "\n",
    "    예를 들어, 사람들의 몸무게가 [70kg, 50kg, 80kg, 50kg]이고 구명보트의 무게 제한이 100kg이라면 2번째 사람과 4번째 사람은 같이 탈 수 있지만 1번째 사람과 3번째 사람의 무게의 합은 150kg이므로 구명보트의 무게 제한을 초과하여 같이 탈 수 없습니다.\n",
    "\n",
    "    구명보트를 최대한 적게 사용하여 모든 사람을 구출하려고 합니다.\n",
    "\n",
    "    사람들의 몸무게를 담은 배열 people과 구명보트의 무게 제한 limit가 매개변수로 주어질 때, 모든 사람을 구출하기 위해 필요한 구명보트 개수의 최솟값을 return 하도록 solution 함수를 작성해주세요.\n",
    "\n",
    "**제한사항**\n",
    "- 무인도에 갇힌 사람은 1명 이상 50,000명 이하입니다.\n",
    "- 각 사람의 몸무게는 40kg 이상 240kg 이하입니다.\n",
    "- 구명보트의 무게 제한은 40kg 이상 240kg 이하입니다.\n",
    "- 구명보트의 무게 제한은 항상 사람들의 몸무게 중 최댓값보다 크게 주어지므로 사람들을 구출할 수 없는 경우는 없습니다.\n",
    "\n",
    "**입출력 예**\n",
    "\n",
    "|people|\tlimit|\treturn|\n",
    "|:---|:--:|:---:|\n",
    "|[70, 50, 80, 50]|\t100|\t3|\n",
    "|[70, 80, 50]|\t100|\t3|"
   ]
  },
  {
   "cell_type": "code",
   "execution_count": 1,
   "metadata": {},
   "outputs": [],
   "source": [
    "def solution(people, limit):\n",
    "    \n",
    "    answer = 0\n",
    "    people.sort()\n",
    "    stack = []\n",
    "    \n",
    "    if len(people) == 1:\n",
    "        return 1\n",
    "    \n",
    "    for i in range(len(people)):\n",
    "        \n",
    "        if i == 0:\n",
    "            # 모든 사람이 구명보트 1대씩 타야하는 경우\n",
    "            if 2 * people[i] > limit:\n",
    "                answer += len(people)\n",
    "                return answer\n",
    "            else:\n",
    "                stack.append(people[0])\n",
    "                continue\n",
    "\n",
    "        # 스택의 마지막 사람이 가장 몸무게가 많이 나가는 사람\n",
    "        if stack[-1] + people[i] > limit:\n",
    "            answer += len(stack) // 2\n",
    "            if len(stack) % 2 == 0: return answer + len(people[i:])\n",
    "            else: return answer + 1 + len(people[i:])\n",
    "        else:          \n",
    "            stack.append(people[i])\n",
    "            \n",
    "    return len(stack) // 2 if len(stack) % 2 == 0 else len(stack) // 2 + 1 "
   ]
  },
  {
   "cell_type": "code",
   "execution_count": 2,
   "metadata": {},
   "outputs": [],
   "source": [
    "people = [70, 50, 80, 50]\n",
    "limit = 100\n",
    "assert solution(people, limit) == 3 \n",
    "\n",
    "people = [70, 80, 50]\n",
    "limit = 100\n",
    "assert solution(people, limit) == 3 "
   ]
  },
  {
   "cell_type": "code",
   "execution_count": 3,
   "metadata": {},
   "outputs": [],
   "source": [
    "people = [70, 80, 50]\n",
    "limit = 100\n",
    "assert solution(people, limit) == 3 "
   ]
  },
  {
   "cell_type": "code",
   "execution_count": 4,
   "metadata": {},
   "outputs": [],
   "source": [
    "def solution(people, limit):\n",
    "    \n",
    "    answer = 0\n",
    "    people.sort()\n",
    "    stack = [] # 스택의 마지막 사람은 스택에서 몸무게가 가장 많이 나가는 사람\n",
    "\n",
    "    if len(people) == 1:\n",
    "        return 1\n",
    "    \n",
    "    for i in range(len(people)):\n",
    "        \n",
    "        if i == 0:\n",
    "            # 모든 사람이 구명보트 1대씩 타야하는 경우\n",
    "            if 2 * people[i] > limit:\n",
    "                answer += len(people)\n",
    "                return answer\n",
    "            else:\n",
    "                stack.append(people[0])\n",
    "                continue\n",
    "        \n",
    "        if stack[0] + people[i] <= limit:\n",
    "            stack.append(people[i])\n",
    "        else:  \n",
    "            # 두명씩 짝지을 수 없는 경우\n",
    "            answer += len(stack) // 2\n",
    "            if len(stack) % 2 == 0: return answer + len(people[i:])\n",
    "            else: return answer + 1 + len(people[i:])\n",
    "        \n",
    "    # 두명씩 짝지을 수 있는 경우\n",
    "    if len(stack) % 2 == 0:\n",
    "        return len(stack) // 2\n",
    "    else:\n",
    "        return len(stack) // 2 + 1"
   ]
  },
  {
   "cell_type": "code",
   "execution_count": 5,
   "metadata": {},
   "outputs": [],
   "source": [
    "people = [1,1, 1, 1, 1,1,1]\n",
    "limit = 3\n",
    "solution(people, limit)"
   ]
  },
  {
   "attachments": {
    "image.png": {
     "image/png": "[encoded data removed]"
    }
   },
   "cell_type": "markdown",
   "metadata": {},
   "source": [
    "![image.png](attachment:image.png)"
   ]
  },
  {
   "cell_type": "code",
   "execution_count": 6,
   "metadata": {},
   "outputs": [],
   "source": [
    "# 이해를 잘못 생각한 코드\n",
    "def solution(people, limit):\n",
    "    \n",
    "    answer = 0\n",
    "    people.sort()\n",
    "    stack = [] # 스택의 마지막 사람은 스택에서 몸무게가 가장 많이 나가는 사람\n",
    "\n",
    "    if len(people) == 1:\n",
    "        return 1\n",
    "    \n",
    "    for i in range(len(people)):\n",
    "        \n",
    "        if i == 0:\n",
    "            # 모든 사람이 구명보트 1대씩 타야하는 경우\n",
    "            if 2 * people[i] > limit:\n",
    "                answer += len(people)\n",
    "                return answer\n",
    "            else:\n",
    "                stack.append(people[0])\n",
    "                continue\n",
    "        \n",
    "        if stack[0] + people[i] <= limit:\n",
    "            # 그냥 append를 하면 stack의 마지막 요소가 최대가 되지 않게됨\n",
    "            stack.append(people[i])\n",
    "        else:  \n",
    "            # 두명씩 짝지을 수 없는 경우\n",
    "            answer += len(stack) // 2\n",
    "            if len(stack) % 2 == 0: return answer + len(people[i:])\n",
    "            else: return answer + 1 + len(people[i:])\n",
    "        \n",
    "    # 두명씩 짝지을 수 있는 경우\n",
    "    if len(stack) % 2 == 0:\n",
    "        return len(stack) // 2\n",
    "    else:\n",
    "        return len(stack) // 2 + 1"
   ]
  },
  {
   "attachments": {
    "image.png": {
     "image/png": "[encoded data removed]"
    }
   },
   "cell_type": "markdown",
   "metadata": {},
   "source": [
    "![image.png](attachment:image.png)"
   ]
  },
  {
   "cell_type": "code",
   "execution_count": 7,
   "metadata": {},
   "outputs": [],
   "source": [
    "people = [100,500,500, 900, 950]\n",
    "limit = 1000\n",
    "solution(people, limit)\n",
    "# 100,500,500,900,950"
   ]
  },
  {
   "cell_type": "markdown",
   "metadata": {},
   "source": [
    "- 힙의 크기를 유지\n",
    "        \n",
    "        stack[0] - 최소값\n",
    "        stack[-1] - 최대값\n",
    "\n",
    "        stack[0] <= stack[1 ~ len(stack) - 2] <= stack[-1]\n",
    "\n",
    "- stack[-1]보다 작은 값이 들어오는 경우"
   ]
  },
  {
   "cell_type": "markdown",
   "metadata": {},
   "source": [
    "# 덱을 사용해보자"
   ]
  },
  {
   "cell_type": "code",
   "execution_count": 8,
   "metadata": {},
   "outputs": [],
   "source": [
    "from collections import deque\n",
    "\n",
    "def solution(people, limit):\n",
    "    \n",
    "    answer = 0\n",
    "    people.sort()\n",
    "    dq = deque()\n",
    "    \n",
    "    if len(people) == 1:\n",
    "        # 구명보트의 무게 제한 > max(사람의 무게)\n",
    "        return 1\n",
    "    \n",
    "    dq.append(people[0])\n",
    "    \n",
    "    for i in range(1, len(people)):\n",
    "                \n",
    "        if people[i] + dq[0] <= limit:\n",
    "            dq.append(people[i])\n",
    "        else:  \n",
    "            answer += len(people[i:])\n",
    "            break\n",
    "            \n",
    "    while len(dq) > 1 and dq.popleft() + dq.pop() <= limit:\n",
    "        answer += 1\n",
    "    \n",
    "    return answer + len(dq)\n"
   ]
  },
  {
   "cell_type": "code",
   "execution_count": 9,
   "metadata": {},
   "outputs": [],
   "source": [
    "from collections import deque\n",
    "\n",
    "def solution(people, limit):\n",
    "    \n",
    "    answer = 0\n",
    "    dq = deque(sorted(people))\n",
    "    \n",
    "    while dq:\n",
    "        if len(dq) == 1:\n",
    "            answer += 1\n",
    "            break\n",
    "        \n",
    "        # len(dq) > 1\n",
    "        if dq[0] + dq[-1] <= limit:\n",
    "            dq.popleft()\n",
    "            dq.pop()\n",
    "        else:\n",
    "            dq.pop()\n",
    "        # 둘로 묶일 수 있건 없건 그 자체로 한가지 경우가 된다.\n",
    "        answer += 1\n",
    "    return answer"
   ]
  },
  {
   "cell_type": "code",
   "execution_count": 10,
   "metadata": {},
   "outputs": [],
   "source": [
    "people = [100,500,500, 900, 950]\n",
    "limit = 1000\n",
    "solution(people, limit)"
   ]
  },
  {
   "cell_type": "code",
   "execution_count": 11,
   "metadata": {
    "scrolled": true
   },
   "outputs": [],
   "source": [
    "people = [1,1, 1, 1, 1,1,1]\n",
    "limit = 3\n",
    "solution(people, limit)"
   ]
  },
  {
   "cell_type": "code",
   "execution_count": 12,
   "metadata": {},
   "outputs": [],
   "source": [
    "people = [70, 50, 80, 50]\n",
    "limit = 100\n",
    "assert solution(people, limit) == 3 \n",
    "\n",
    "people = [70, 80, 50]\n",
    "limit = 100\n",
    "assert solution(people, limit) == 3 "
   ]
  },
  {
   "cell_type": "code",
   "execution_count": 13,
   "metadata": {},
   "outputs": [],
   "source": [
    "people = [40, 40, 40]\n",
    "limit = 120\n",
    "assert solution(people, limit) == 2\n"
   ]
  },
  {
   "cell_type": "code",
   "execution_count": 14,
   "metadata": {},
   "outputs": [],
   "source": [
    "people = [40, 50, 60, 90] \n",
    "limit = 100\n",
    "assert solution(people,limit) == 3"
   ]
  },
  {
   "cell_type": "code",
   "execution_count": 15,
   "metadata": {},
   "outputs": [],
   "source": [
    "people = [40, 50, 50, 80]\n",
    "limit = 100\n",
    "solution(people,limit)"
   ]
  },
  {
   "attachments": {
    "image.png": {
     "image/png": "[encoded data removed]"
    }
   },
   "cell_type": "markdown",
   "metadata": {},
   "source": [
    "![image.png](attachment:image.png)"
   ]
  },
  {
   "cell_type": "code",
   "execution_count": null,
   "metadata": {},
   "outputs": [],
   "source": []
  }
 ],
 "metadata": {
  "kernelspec": {
   "display_name": "Python 3",
   "language": "python",
   "name": "python3"
  },
  "language_info": {
   "codemirror_mode": {
    "name": "ipython",
    "version": 3
   },
   "file_extension": ".py",
   "mimetype": "text/x-python",
   "name": "python",
   "nbconvert_exporter": "python",
   "pygments_lexer": "ipython3",
   "version": "3.8.5"
  }
 },
 "nbformat": 4,
 "nbformat_minor": 4
}
