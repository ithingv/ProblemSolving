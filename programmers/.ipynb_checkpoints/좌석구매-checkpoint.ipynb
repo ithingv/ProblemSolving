{
 "cells": [
  {
   "cell_type": "markdown",
   "metadata": {},
   "source": [
    "# 좌석구매"
   ]
  },
  {
   "attachments": {
    "image.png": {
     "image/png": "[encoded data removed]"
    }
   },
   "cell_type": "markdown",
   "metadata": {},
   "source": [
    "**문제 설명**\n",
    "\n",
    "아래 그림과 같이 공연을 관람하기 위한 100,000 x 100,000 크기의 격자 모양의 좌석이 있습니다.\n",
    "![image.png](attachment:image.png)\n",
    "\n",
    "이 공연장의 표를 구매하기 위해 `K`명의 관람객이 매표소에 한 줄로 서 있습니다. 이때, 관람객은 자신이 원하는 좌석에서만 공연을 관람하려고 합니다. 각 관람객은 매표소에서 자신이 원하는 좌석의 좌표를 말하고, 아직 아무도 구매하지 않은 좌석이면 해당 좌석의 표를 삽니다. 그러나 만약 이미 구매된 좌석이면 공연 관람을 포기하고 집으로 돌아갑니다. 줄을 서 있는 사람들이 구매하려는 좌석의 좌표가 순서대로 담겨있는 배열 `seat`가 매개변수로 주어질 때, 표를 구매하는 데 성공한 사람의 수를 return 하도록 solution 함수를 완성해 주세요.\n",
    "\n",
    "**제한사항**\n",
    "- 줄을 서 있는 관람객의 수는 1 이상 100,000 이하입니다.\n",
    "- seat에는 관람객이 구매하려는 좌석의 좌표가 가장 앞에 있는 사람부터 순서대로 들어있습니다.\n",
    "- seat의 각 원소는 관람객이 구매하려는 좌석의 좌표이며, [가로 좌표, 세로 좌표] 순입니다.\n",
    "- 가로 좌표, 세로 좌표의 범위는 1 이상 100,000 이하의 정수입니다.\n",
    "\n",
    "**입출력 예**\n",
    "\n",
    "|seat\t|result|\n",
    "|:--:|:---:|\n",
    "|[[1,1],[2,2],[3,3]]|\t3|\n",
    "|[[1,1],[2,1],[1,2],[3,4],[2,1],[2,1]]\t|4|\n",
    "\n",
    "**입출력 예 설명**\n",
    "```\n",
    "입출력 예 #1\n",
    "가장 앞사람부터 순서대로 (1, 1), (2, 2), (3, 3) 위치의 좌석을 구매하여 총 3명의 관람객이 구매에 성공했습니다.\n",
    "```\n",
    "\n",
    "```\n",
    "입출력 예 #2\n",
    "가장 앞사람부터 순서대로 (1, 1), (2, 1), (1, 2), (3, 4) 위치의 좌석을 구매하였습니다. 5, 6번째 관람객이 구매하려는 좌석은 2번째 관람객이 이미 구매하였으므로 5, 6번째 관람객은 집으로 돌아갑니다. 따라서 총 4명의 관람객이 구매에 성공했습니다.\n",
    "```"
   ]
  },
  {
   "cell_type": "code",
   "execution_count": 5,
   "metadata": {},
   "outputs": [],
   "source": [
    "seat_case_1 = [[1,1],[2,2],[3,3]]"
   ]
  },
  {
   "cell_type": "code",
   "execution_count": 1,
   "metadata": {},
   "outputs": [],
   "source": [
    "# 답안 1\n",
    "def solution(seat):\n",
    "    seat_map = {}\n",
    "    count = 0\n",
    "    for seat_case in seat:\n",
    "        if (seat_case[0], seat_case[1]) not in seat_map:\n",
    "            seat_map[(seat_case[0], seat_case[1])] = True\n",
    "            count += 1\n",
    "        else:\n",
    "            continue\n",
    "    return count"
   ]
  },
  {
   "cell_type": "code",
   "execution_count": null,
   "metadata": {},
   "outputs": [],
   "source": [
    "# 답안 2\n",
    "def solution(seat):\n",
    "    return len(set(map(tuple, seat)))"
   ]
  },
  {
   "cell_type": "code",
   "execution_count": 6,
   "metadata": {},
   "outputs": [
    {
     "data": {
      "text/plain": [
       "3"
      ]
     },
     "execution_count": 6,
     "metadata": {},
     "output_type": "execute_result"
    }
   ],
   "source": [
    "solution(seat_case_1)"
   ]
  },
  {
   "cell_type": "code",
   "execution_count": 7,
   "metadata": {},
   "outputs": [],
   "source": [
    "seat_case_2 =[[1,1],[2,1],[1,2],[3,4],[2,1],[2,1]]"
   ]
  },
  {
   "cell_type": "code",
   "execution_count": 9,
   "metadata": {},
   "outputs": [
    {
     "data": {
      "text/plain": [
       "4"
      ]
     },
     "execution_count": 9,
     "metadata": {},
     "output_type": "execute_result"
    }
   ],
   "source": [
    "solution(seat_case_2)"
   ]
  },
  {
   "attachments": {
    "image.png": {
     "image/png": "[encoded data removed]"
    }
   },
   "cell_type": "markdown",
   "metadata": {},
   "source": [
    "![image.png](attachment:image.png)"
   ]
  }
 ],
 "metadata": {
  "kernelspec": {
   "display_name": "Python 3",
   "language": "python",
   "name": "python3"
  },
  "language_info": {
   "codemirror_mode": {
    "name": "ipython",
    "version": 3
   },
   "file_extension": ".py",
   "mimetype": "text/x-python",
   "name": "python",
   "nbconvert_exporter": "python",
   "pygments_lexer": "ipython3",
   "version": "3.7.4"
  }
 },
 "nbformat": 4,
 "nbformat_minor": 2
}
