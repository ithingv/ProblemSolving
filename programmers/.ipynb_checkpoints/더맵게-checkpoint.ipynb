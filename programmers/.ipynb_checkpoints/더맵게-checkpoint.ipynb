{
 "cells": [
  {
   "cell_type": "markdown",
   "metadata": {},
   "source": [
    "- 모든 음식의 스코빌 지수를 K 이상으로 만들고 싶습니다\n",
    "- 섞은 음식의 스코빌 지수 = 가장 맵지 않은 음식의 스코빌 지수 + (두 번째로 맵지 않은 음식의 스코빌 지수 * 2)\n",
    "- Leo는 모든 음식의 스코빌 지수가 K 이상이 될 때까지 반복하여 섞습니다\n",
    "- Leo가 가진 음식의 스코빌 지수를 담은 배열 scoville과 원하는 스코빌 지수 K가 주어질 때, 모든 음식의 스코빌 지수를 K 이상으로 만들기 위해 섞어야 하는 최소 횟수를 return 하도록 solution 함수를 작성해주세요."
   ]
  },
  {
   "attachments": {
    "image.png": {
     "image/png": "[encoded data removed]"
    }
   },
   "cell_type": "markdown",
   "metadata": {},
   "source": [
    "![image.png](attachment:image.png)"
   ]
  },
  {
   "cell_type": "markdown",
   "metadata": {},
   "source": [
    "**입출력 예 설명**\n",
    "- 스코빌 지수가 1인 음식과 2인 음식을 섞으면 음식의 스코빌 지수가 아래와 같이 됩니다.\n",
    "새로운 음식의 스코빌 지수 = 1 + (2 * 2) = 5\n",
    "가진 음식의 스코빌 지수 = [5, 3, 9, 10, 12]\n",
    "\n",
    "- 스코빌 지수가 3인 음식과 5인 음식을 섞으면 음식의 스코빌 지수가 아래와 같이 됩니다.\n",
    "새로운 음식의 스코빌 지수 = 3 + (5 * 2) = 13\n",
    "가진 음식의 스코빌 지수 = [13, 9, 10, 12]\n",
    "\n",
    "모든 음식의 스코빌 지수가 7 이상이 되었고 이때 섞은 횟수는 2회입니다."
   ]
  },
  {
   "cell_type": "code",
   "execution_count": 24,
   "metadata": {},
   "outputs": [],
   "source": [
    "# 필요한 변수\n",
    "# 섞은 횟수()\n",
    "import heapq\n",
    "\n",
    "def solution(scoville, K):\n",
    "    \n",
    "    mix_count = 0\n",
    "    heapq.heapify(scoville)\n",
    "    \n",
    "    while len(scoville) >= 2:\n",
    "        first_min = heapq.heappop(scoville)\n",
    "        second_min = heapq.heappop(scoville)\n",
    "        new_scoville = first_min + (2 * second_min)\n",
    "        heapq.heappush(scoville, new_scoville)\n",
    "        mix_count += 1\n",
    "        if scoville[0] >= K:\n",
    "            break\n",
    "        \n",
    "    return mix_count"
   ]
  },
  {
   "cell_type": "code",
   "execution_count": 25,
   "metadata": {},
   "outputs": [
    {
     "data": {
      "text/plain": [
       "2"
      ]
     },
     "execution_count": 25,
     "metadata": {},
     "output_type": "execute_result"
    }
   ],
   "source": [
    "scoville = [1, 2, 3, 9, 10, 12]\n",
    "K = 7\n",
    "solution(scoville, 7)"
   ]
  },
  {
   "cell_type": "markdown",
   "metadata": {},
   "source": [
    "- heappop을 두번 해야하므로 scoville의 길이가 최소 2 이상이여야 한다. 따라서 while문의 조건식에서 len(scoville) >= 2\n",
    "\n",
    "\n",
    "- scoville의 root 노드의 value가 K보다 작은 경우 바로 mix_count를 return하고 문제의 조건에 따라 모든 음식의 스코빌 지수를 K 이상으로 만들 수 없는 경우에는 -1을 return 합니다."
   ]
  },
  {
   "attachments": {
    "image.png": {
     "image/png": "[encoded data removed]"
    }
   },
   "cell_type": "markdown",
   "metadata": {},
   "source": [
    "![image.png](attachment:image.png)"
   ]
  },
  {
   "cell_type": "code",
   "execution_count": 2,
   "metadata": {},
   "outputs": [],
   "source": [
    "import heapq\n",
    "\n",
    "def solution(scoville, K):\n",
    "    \n",
    "    # 섞은 음식의 스코빌 지수 = 가장 맵지 않은 음식의 스코빌 지수 + (두 번째로 맵지 않은 음식의 스코빌 지수 * 2)\n",
    "    heapq.heapify(scoville)\n",
    "    cnt = 0\n",
    "    while len(scoville) >= 2:\n",
    "        score = heapq.heappop(scoville) + (heapq.heappop(scoville) * 2)\n",
    "        heapq.heappush(scoville, score)\n",
    "        cnt += 1\n",
    "        \n",
    "        if scoville[0] >= K: return cnt\n",
    "        \n",
    "    # 모든 음식의 스코빌 지수를 K 이상으로 만들 수 없는 경우\n",
    "    return -1               "
   ]
  },
  {
   "attachments": {
    "image.png": {
     "image/png": "[encoded data removed]"
    }
   },
   "cell_type": "markdown",
   "metadata": {},
   "source": [
    "![image.png](attachment:image.png)"
   ]
  }
 ],
 "metadata": {
  "kernelspec": {
   "display_name": "Python 3",
   "language": "python",
   "name": "python3"
  },
  "language_info": {
   "codemirror_mode": {
    "name": "ipython",
    "version": 3
   },
   "file_extension": ".py",
   "mimetype": "text/x-python",
   "name": "python",
   "nbconvert_exporter": "python",
   "pygments_lexer": "ipython3",
   "version": "3.8.5"
  }
 },
 "nbformat": 4,
 "nbformat_minor": 4
}
