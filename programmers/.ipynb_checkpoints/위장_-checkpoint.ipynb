{
 "cells": [
  {
   "cell_type": "markdown",
   "metadata": {},
   "source": [
    "# 위장\n",
    "\n",
    "**문제 설명**\n",
    "\n",
    "스파이들은 매일 다른 옷을 조합하여 입어 자신을 위장합니다.\n",
    "\n",
    "예를 들어 스파이가 가진 옷이 아래와 같고 오늘 스파이가 동그란 안경, 긴 코트, 파란색 티셔츠를 입었다면 다음날은 청바지를 추가로 입거나 동그란 안경 대신 검정 선글라스를 착용하거나 해야 합니다.\n",
    "\n",
    "|종류\t|이름|\n",
    "|:---:|:---:|\n",
    "|얼굴\t|동그란 안경, 검정 선글라스|\n",
    "|상의\t|파란색 티셔츠|\n",
    "|하의\t|청바지|\n",
    "|겉옷\t|긴 코트|\n",
    "\n",
    "스파이가 가진 의상들이 담긴 2차원 배열 `clothes`가 주어질 때 서로 다른 옷의 조합의 수를 return 하도록 solution 함수를 작성해주세요.\n",
    "\n",
    "**제한사항**\n",
    "\n",
    "- clothes의 각 행은 [의상의 이름, 의상의 종류]로 이루어져 있습니다.\n",
    "- 스파이가 가진 의상의 수는 1개 이상 30개 이하입니다.\n",
    "- 같은 이름을 가진 의상은 존재하지 않습니다.\n",
    "- clothes의 모든 원소는 문자열로 이루어져 있습니다.\n",
    "- 모든 문자열의 길이는 1 이상 20 이하인 자연수이고 알파벳 소문자 또는 '_' 로만 이루어져 있습니다.\n",
    "- 스파이는 하루에 최소 한 개의 의상은 입습니다.\n",
    "\n",
    "**입출력 예**\n",
    "\n",
    "|clothes\t|return|\n",
    "|:-:|:-:|\n",
    "|[[\"yellowhat\", \"headgear\"], [\"bluesunglasses\", \"eyewear\"], [\"green_turban\", \"headgear\"]]|\t5|\n",
    "|[[\"crowmask\", \"face\"], [\"bluesunglasses\", \"face\"], [\"smoky_makeup\", \"face\"]]\t|3|\n",
    "\n",
    "\n",
    "**입출력 예 설명**\n",
    "\n",
    "예제 #1\n",
    "headgear에 해당하는 의상이 yellow_hat, green_turban이고 eyewear에 해당하는 의상이 blue_sunglasses이므로 아래와 같이 5개의 조합이 가능합니다.\n",
    "\n",
    "    1. yellow_hat\n",
    "    2. blue_sunglasses\n",
    "    3. green_turban\n",
    "    4. yellow_hat + blue_sunglasses\n",
    "    5. green_turban + blue_sunglasses\n",
    "\n",
    "\n",
    "예제 #2\n",
    "face에 해당하는 의상이 crow_mask, blue_sunglasses, smoky_makeup이므로 아래와 같이 3개의 조합이 가능합니다.\n",
    "\n",
    "    1. crow_mask\n",
    "    2. blue_sunglasses\n",
    "    3. smoky_makeup"
   ]
  },
  {
   "cell_type": "markdown",
   "metadata": {},
   "source": [
    "- 종류별로 하루에 0개 혹은 1개의 옷을 입어야한다.\n",
    "- 각 종류별로 옷을 입지 않는 경우를 포함하여 모든 종류에 대해 하나씩 입을 수 있는\n",
    "경우의 수를 계산한다.\n",
    "```\n",
    "예를들어 pants = [\"a\",\"b\",\"c\"]일 경우, 옷을 입지 않는 경우를 포함해 이 중 하나를 선택하는 경우는 (3 + 1)이다.\n",
    "```     \n",
    "- 마지막에 옷을 하나도 입지 않는 경우를 뺴준다."
   ]
  },
  {
   "cell_type": "code",
   "execution_count": 50,
   "metadata": {
    "scrolled": true
   },
   "outputs": [
    {
     "data": {
      "text/plain": [
       "Counter({'headgear': ['yellowwhat', 'green_turban'],\n",
       "         'eyewear': ['bluesunglasses']})"
      ]
     },
     "execution_count": 50,
     "metadata": {},
     "output_type": "execute_result"
    }
   ],
   "source": [
    "def solution(clothes):\n",
    "    answer = 1\n",
    "    cloth_dict = {} \n",
    "    \n",
    "    for cloth in clothes:\n",
    "        item, category = cloth[0], cloth[1]\n",
    "        if category not in cloth_dict:\n",
    "            cloth_dict[category] = [item]\n",
    "        else:\n",
    "            cloth_dict[category].append(item)\n",
    "    \n",
    "    for items in cloth_dict.values():\n",
    "        answer *= (len(items) + 1)\n",
    "    \n",
    "    return answer - 1"
   ]
  },
  {
   "attachments": {
    "image.png": {
     "image/png": "[encoded data removed]"
    }
   },
   "cell_type": "markdown",
   "metadata": {},
   "source": [
    "![image.png](attachment:image.png)"
   ]
  },
  {
   "cell_type": "code",
   "execution_count": null,
   "metadata": {},
   "outputs": [],
   "source": []
  }
 ],
 "metadata": {
  "kernelspec": {
   "display_name": "Python 3",
   "language": "python",
   "name": "python3"
  },
  "language_info": {
   "codemirror_mode": {
    "name": "ipython",
    "version": 3
   },
   "file_extension": ".py",
   "mimetype": "text/x-python",
   "name": "python",
   "nbconvert_exporter": "python",
   "pygments_lexer": "ipython3",
   "version": "3.8.5"
  }
 },
 "nbformat": 4,
 "nbformat_minor": 4
}
