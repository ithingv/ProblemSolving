{
 "cells": [
  {
   "cell_type": "code",
   "execution_count": 4,
   "metadata": {},
   "outputs": [
    {
     "name": "stdout",
     "output_type": "stream",
     "text": [
      "1 [2, 3, 4, 5]\n",
      "2 [3, 4, 5]\n",
      "3 [4, 5]\n"
     ]
    }
   ],
   "source": [
    "a = [1,2,3,4,5]\n",
    "for num in a:\n",
    "    \n",
    "    print(a.pop(0), a)"
   ]
  },
  {
   "cell_type": "code",
   "execution_count": 21,
   "metadata": {},
   "outputs": [
    {
     "name": "stdout",
     "output_type": "stream",
     "text": [
      "[1, 9]\n",
      "[]\n",
      "1\n",
      "[[1, 9]]\n"
     ]
    }
   ],
   "source": [
    "# 반복문이 실행되는 중간에 이터레이터가 변경되는 경우\n",
    "\n",
    "finish_time = 3\n",
    "\n",
    "waiting_queue = [[1, 9], [2, 6]]\n",
    "ready_queue = []\n",
    "\n",
    "for job in waiting_queue:\n",
    "    print(job)\n",
    "    if finish_time < job[0]:\n",
    "        break\n",
    "\n",
    "    job = waiting_queue.pop(0)\n",
    "    waiting_queue = waiting_queue[1:]\n",
    "    ready_queue.append(job)\n",
    "    print(waiting_queue)\n",
    "print(1)\n",
    "print(ready_queue)\n",
    "\n"
   ]
  },
  {
   "cell_type": "code",
   "execution_count": 31,
   "metadata": {},
   "outputs": [
    {
     "name": "stdout",
     "output_type": "stream",
     "text": [
      "2\n"
     ]
    }
   ],
   "source": [
    "finish_time = 3\n",
    "\n",
    "waiting_queue = [[1, 9], [2, 6]]\n",
    "ready_queue = []\n",
    "\n",
    "# 조건에 부합하는 경우에만 제거 가능\n",
    "\n",
    "\n",
    "idx = 0\n",
    "for job in waiting_queue:\n",
    "    if finish_time < job[0]:\n",
    "        break\n",
    "    idx += 1\n",
    "\n",
    "print(idx)\n",
    "        \n",
    "    \n"
   ]
  },
  {
   "cell_type": "code",
   "execution_count": null,
   "metadata": {},
   "outputs": [],
   "source": [
    "def split_queue(waiting_queue, finish_time):\n",
    "    \n",
    "    idx = 0\n",
    "    for i in range(len(waiting_queue)):\n",
    "        if waiting_queue[i][0] > finish_time:\n",
    "            idx = i\n",
    "            break\n",
    "\n",
    "    return waiting_queue[:idx-1], waiting_queue[idx:] \n"
   ]
  },
  {
   "cell_type": "code",
   "execution_count": 26,
   "metadata": {},
   "outputs": [
    {
     "name": "stdout",
     "output_type": "stream",
     "text": [
      "ready_queue: []\n",
      "waiting_queue: []\n"
     ]
    }
   ],
   "source": [
    "def split_queue(waiting_queue, finish_time):\n",
    "    \n",
    "    cnt = 0\n",
    "    for i in range(len(waiting_queue)):\n",
    "        if waiting_queue[i][0] > finish_time:\n",
    "            idx = i\n",
    "            break\n",
    "\n",
    "    return waiting_queue[:idx], waiting_queue[idx+1:] \n",
    "\n",
    "ready_queue, waiting_queue = split_queue([[1, 9], [2, 6]],3)\n",
    "\n",
    "print(f\"ready_queue: {ready_queue}\")\n",
    "print(f\"waiting_queue: {ready_queue}\")"
   ]
  },
  {
   "cell_type": "code",
   "execution_count": 22,
   "metadata": {},
   "outputs": [],
   "source": [
    "a = [[1, 9], [2, 6]]"
   ]
  },
  {
   "cell_type": "code",
   "execution_count": 23,
   "metadata": {},
   "outputs": [
    {
     "data": {
      "text/plain": [
       "(1, 2)"
      ]
     },
     "execution_count": 23,
     "metadata": {},
     "output_type": "execute_result"
    }
   ],
   "source": [
    "a[0][0], a[1][0]"
   ]
  },
  {
   "cell_type": "code",
   "execution_count": 6,
   "metadata": {},
   "outputs": [
    {
     "data": {
      "text/plain": [
       "[[1, 9]]"
      ]
     },
     "execution_count": 6,
     "metadata": {},
     "output_type": "execute_result"
    }
   ],
   "source": [
    "ready_queuea"
   ]
  },
  {
   "cell_type": "code",
   "execution_count": null,
   "metadata": {},
   "outputs": [],
   "source": []
  }
 ],
 "metadata": {
  "kernelspec": {
   "display_name": "Python 3",
   "language": "python",
   "name": "python3"
  },
  "language_info": {
   "codemirror_mode": {
    "name": "ipython",
    "version": 3
   },
   "file_extension": ".py",
   "mimetype": "text/x-python",
   "name": "python",
   "nbconvert_exporter": "python",
   "pygments_lexer": "ipython3",
   "version": "3.8.5"
  }
 },
 "nbformat": 4,
 "nbformat_minor": 4
}
