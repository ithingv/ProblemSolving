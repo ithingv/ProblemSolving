{
 "cells": [
  {
   "cell_type": "markdown",
   "metadata": {},
   "source": [
    "# 이중우선순위큐\n",
    "\n",
    "**문제 설명**\n",
    "\n",
    "이중 우선순위 큐는 다음 연산을 할 수 있는 자료구조를 말합니다.\n",
    "\n",
    "|명령어\t|수신 탑(높이)|\n",
    "|:---:|:----:|\n",
    "| I 숫자\t|큐에 주어진 숫자를 삽입합니다.|\n",
    "|D 1\t|큐에서 최댓값을 삭제합니다.|\n",
    "|D -1|\t큐에서 최솟값을 삭제합니다.|\n",
    "\n",
    "이중 우선순위 큐가 할 연산 `operations`가 매개변수로 주어질 때, 모든 연산을 처리한 후 큐가 비어있으면 `[0,0]` 비어있지 않으면 `[최댓값, 최솟값]`을 return 하도록 solution 함수를 구현해주세요.\n",
    "\n",
    "**제한사항**\n",
    "\n",
    "- operations는 길이가 1 이상 1,000,000 이하인 문자열 배열입니다.\n",
    "- operations의 원소는 큐가 수행할 연산을 나타냅니다.\n",
    "- 원소는 “명령어 데이터” 형식으로 주어집니다.- 최댓값/최솟값을 삭제하는 연산에서 최댓값/최솟값이 둘 이상인 경우, 하나만 삭제합니다.\n",
    "- 빈 큐에 데이터를 삭제하라는 연산이 주어질 경우, 해당 연산은 무시합니다.\n",
    "\n",
    "**입출력 예**\n",
    "\n",
    "|operations\t| return|\n",
    "|:---:|:---:|\n",
    "|[\"I 16\",\"D 1\"]\t| [0,0]|\n",
    "|[\"I 7\",\"I 5\",\"I -5\",\"D -1\"]|\t[7,5]|\n",
    "\n",
    "**입출력 예 설명**\n",
    "\n",
    "16을 삽입 후 최댓값을 삭제합니다. 비어있으므로 `[0,0]`을 반환합니다.\n",
    "7, 5, -5를 삽입 후 최솟값을 삭제합니다. 최대값 7, 최소값 5를 반환합니다."
   ]
  },
  {
   "cell_type": "code",
   "execution_count": null,
   "metadata": {},
   "outputs": [],
   "source": []
  }
 ],
 "metadata": {
  "kernelspec": {
   "display_name": "Python 3",
   "language": "python",
   "name": "python3"
  },
  "language_info": {
   "codemirror_mode": {
    "name": "ipython",
    "version": 3
   },
   "file_extension": ".py",
   "mimetype": "text/x-python",
   "name": "python",
   "nbconvert_exporter": "python",
   "pygments_lexer": "ipython3",
   "version": "3.8.5"
  }
 },
 "nbformat": 4,
 "nbformat_minor": 4
}
