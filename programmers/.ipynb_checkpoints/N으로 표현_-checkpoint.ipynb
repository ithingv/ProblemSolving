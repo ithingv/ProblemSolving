{
 "cells": [
  {
   "cell_type": "markdown",
   "metadata": {},
   "source": [
    "# N으로 표현"
   ]
  },
  {
   "cell_type": "markdown",
   "metadata": {},
   "source": [
    "**문제 설명**\n",
    "\n",
    "아래와 같이 5와 사칙연산만으로 12를 표현할 수 있습니다.\n",
    "\n",
    "    12 = 5 + 5 + (5 / 5) + (5 / 5)\n",
    "    12 = 55 / 5 + 5 / 5\n",
    "    12 = (55 + 5) / 5\n",
    "\n",
    "5를 사용한 횟수는 각각 6,5,4 입니다. 그리고 이중 가장 작은 경우는 4입니다.\n",
    "이처럼 숫자 `N`과 `number`가 주어질 때, `N`과 사칙연산만 사용해서 표현 할 수 있는 방법 중 N 사용횟수의 최솟값을 return 하도록 solution 함수를 작성하세요.\n",
    "\n",
    "**제한사항**\n",
    "\n",
    "- N은 1 이상 9 이하입니다.\n",
    "- number는 1 이상 32,000 이하입니다.\n",
    "- 수식에는 괄호와 사칙연산만 가능하며 나누기 연산에서 나머지는 무시합니다.\n",
    "- 최솟값이 8보다 크면 -1을 return 합니다.\n",
    "\n",
    "\n",
    "**입출력 예**\n",
    "\n",
    "|N\t|number|\treturn|\n",
    "|:--:|:---:|:--:|\n",
    "|5|\t12|\t4|\n",
    "|2|\t11|\t3|\n",
    "\n",
    "\n",
    "**입출력 예 설명**\n",
    "\n",
    "예제1) 문제에 나온 예와 같습니다.\n",
    "\n",
    "예제2) 11 = 22 / 2와 같이 2를 3번만 사용하여 표현할 수 있습니다."
   ]
  },
  {
   "cell_type": "code",
   "execution_count": 18,
   "metadata": {},
   "outputs": [],
   "source": [
    "# 답안\n",
    "def solution(N, number):\n",
    "    if N == number:\n",
    "        return 1\n",
    "    \n",
    "    set_list = [{N}]\n",
    "\n",
    "    for count in range(2, 9):\n",
    "        partial_set = {int(str(N) * count)}\n",
    "        print(set_list)\n",
    "        for i in range(0, count // 2):\n",
    "            set1 = set_list[i]\n",
    "            set2 = set_list[count - i - 2]\n",
    "            print(f\"set1 : {set1}, set2:{set2}\")\n",
    "            print()\n",
    "            for num1 in set1:\n",
    "                for num2 in set2:\n",
    "                    partial_set.add(num1 + num2)\n",
    "                    partial_set.add(num1 - num2)\n",
    "                    partial_set.add(num2 - num1)\n",
    "                    partial_set.add(num1 * num2)\n",
    "                    if num2 != 0:\n",
    "                        partial_set.add(num1 // num2)\n",
    "                    if num1 != 0:\n",
    "                        partial_set.add(num2 // num1)\n",
    "                        \n",
    "        if number in partial_set:\n",
    "            return count\n",
    "        set_list.append(partial_set)\n",
    "        \n",
    "    return -1"
   ]
  },
  {
   "cell_type": "code",
   "execution_count": 16,
   "metadata": {},
   "outputs": [
    {
     "name": "stdout",
     "output_type": "stream",
     "text": [
      "[{5}]\n",
      "set1 : {5}, set2:{5}\n",
      "\n",
      "[{5}, {0, 1, 10, 55, 25}]\n",
      "set1 : {5}, set2:{0, 1, 10, 55, 25}\n",
      "\n",
      "[{5}, {0, 1, 10, 55, 25}, {0, 2, 4, 5, 6, 555, 11, -20, 60, 15, -50, 50, 275, 20, -5, -4, 125, 30}]\n",
      "set1 : {5}, set2:{0, 2, 4, 5, 6, 555, 11, -20, 60, 15, -50, 50, 275, 20, -5, -4, 125, 30}\n",
      "\n",
      "set1 : {0, 1, 10, 55, 25}, set2:{0, 1, 10, 55, 25}\n",
      "\n",
      "[{5}, {0, 1, 10, 55, 25}, {0, 2, 4, 5, 6, 555, 11, -20, 60, 15, -50, 50, 275, 20, -5, -4, 125, 30}, {0, 1, 2, 3, 4, 5, 6, 7, -250, 9, 10, 11, 12, -120, 270, 15, 16, 130, 20, 150, 280, 25, 26, 24, -100, 30, 35, 550, 300, 45, 560, 50, 5555, 54, 55, 56, 65, -55, -54, 75, 80, 3025, -45, 2775, -550, 120, 1375, -30, 100, -25, -24, 250, -20, 110, 111, -15, -270, 625, -10, -9, -2, -6, -5, -4, -3, -1}]\n",
      "set1 : {5}, set2:{0, 1, 2, 3, 4, 5, 6, 7, -250, 9, 10, 11, 12, -120, 270, 15, 16, 130, 20, 150, 280, 25, 26, 24, -100, 30, 35, 550, 300, 45, 560, 50, 5555, 54, 55, 56, 65, -55, -54, 75, 80, 3025, -45, 2775, -550, 120, 1375, -30, 100, -25, -24, 250, -20, 110, 111, -15, -270, 625, -10, -9, -2, -6, -5, -4, -3, -1}\n",
      "\n",
      "set1 : {0, 1, 10, 55, 25}, set2:{0, 2, 4, 5, 6, 555, 11, -20, 60, 15, -50, 50, 275, 20, -5, -4, 125, 30}\n",
      "\n"
     ]
    },
    {
     "data": {
      "text/plain": [
       "5"
      ]
     },
     "execution_count": 16,
     "metadata": {},
     "output_type": "execute_result"
    }
   ],
   "source": [
    "solution(5, 19)"
   ]
  },
  {
   "cell_type": "code",
   "execution_count": 19,
   "metadata": {},
   "outputs": [],
   "source": [
    "# 해답\n",
    "def solution(N, number):\n",
    "    if N == number:\n",
    "        return 1\n",
    "    \n",
    "    set_list = [{N}]\n",
    "\n",
    "    for count in range(2, 9):\n",
    "        partial_set = {int(str(N) * count)}\n",
    "        for i in range(0, count // 2): # 핵심\n",
    "            set1 = set_list[i]\n",
    "            set2 = set_list[count - i - 2]\n",
    "            for num1 in set1:\n",
    "                for num2 in set2:\n",
    "                    partial_set.add(num1 + num2)\n",
    "                    partial_set.add(num1 - num2)\n",
    "                    partial_set.add(num2 - num1)\n",
    "                    partial_set.add(num1 * num2)\n",
    "                    if num2 != 0:\n",
    "                        partial_set.add(num1 // num2)\n",
    "                    if num1 != 0:\n",
    "                        partial_set.add(num2 // num1)\n",
    "                        \n",
    "        if number in partial_set:\n",
    "            return count\n",
    "        set_list.append(partial_set)\n",
    "        \n",
    "    return -1"
   ]
  },
  {
   "cell_type": "markdown",
   "metadata": {},
   "source": [
    "**N = 5일때**\n",
    "\n",
    "\n",
    "1. 숫자 하나만 오는 경우를 먼저 저장한다.\n",
    "```\n",
    "set_list = [{5}]\n",
    "```\n",
    "\n",
    "---\n",
    "\n",
    "2. N이 2 ~ 8번 연속해서 붙어있는 숫자를 부분 집합으로 설정한다.\n",
    "    ```\n",
    "    for count in range(2, 9)\n",
    "        partial_set = {int(str(N) * count)}\n",
    "        \n",
    "    ```\n",
    "    ex) partial_set = {55}, {555}, {5555}, {55555}, {55555...}\n",
    "\n",
    "---\n",
    "3. 이전의 partial_set 결과를 두 부분으로 나누고 이중 루프를 돌면서 가능한 연산 조합의 경우의 수를 계산한다.\n",
    "\n",
    "    ```\n",
    "    for i in range(0, count // 2):\n",
    "            set1 = set_list[i]\n",
    "            set2 = set_list[count - i - 2]\n",
    "    ```\n",
    "   \n",
    "    | count | count // 2| i | count - i - 2 |\n",
    "    |:---:|:---:|:---:|:---:|\n",
    "    | 2 | 1 |  0 | 0 |\n",
    "    | 3 | 1 |  0 | 1 |\n",
    "    | 4 | 2 |  0 | 2 |\n",
    "    | 4 | 2 |  1 | 1 |\n",
    "    | 5 | 2 |  0 | 3 |\n",
    "    | 5 | 2 |  1 | 2 |\n",
    "    | 6 | 3 |  0 | 4 |\n",
    "    | 6 | 3 |  1 | 3 |\n",
    "    | 6 | 3 |  2 | 2 |\n",
    "    | 7 | 3 |  0 | 5 |\n",
    "    | 7 | 3 |  1 | 4 |\n",
    "    | 7 | 3 |  2 | 3 |\n",
    "    | 8 | 4 |  0 | 6 |\n",
    "    | 8 | 4 |  1 | 5 |\n",
    "    | 8 | 4 |  2 | 4 |\n",
    "    | 8 | 4 |  3 | 3 |\n",
    "    \n",
    "---\n",
    "4. 부분 집합에서 가능한 연산 결과를 모두 partial_set에 저장한다.\n",
    "```\n",
    "    for num1 in set1:\n",
    "        for num2 in set2:\n",
    "            partial_set.add(num1 + num2)\n",
    "            partial_set.add(num1 - num2)\n",
    "            partial_set.add(num2 - num1)\n",
    "            partial_set.add(num1 * num2)\n",
    "            if num2 != 0:\n",
    "                partial_set.add(num1 // num2)\n",
    "            if num1 != 0:\n",
    "                partial_set.add(num2 // num1) \n",
    "```\n",
    "\n",
    "---\n",
    "5. count를 늘리면서 부분집합에 찾는 숫자가 있다면 count를 리턴하고 함수를 종료한다.\n",
    "```\n",
    "if number in partial_set:\n",
    "    return count\n",
    "```\n",
    "---\n",
    "6. 이전 count에서 가능한 조합(partial_set)을 set_list에 저장한다.\n",
    "\n",
    "```\n",
    "set_list.append(partial_set)\n",
    "        \n",
    "```\n",
    "---\n",
    "7. 최솟값이 8보다 크면 -1을 return 한다.\n",
    "\n",
    "```\n",
    "return -1\n",
    "```"
   ]
  },
  {
   "cell_type": "code",
   "execution_count": 1,
   "metadata": {},
   "outputs": [
    {
     "data": {
      "text/plain": [
       "{0, 1, 10, 25}"
      ]
     },
     "execution_count": 1,
     "metadata": {},
     "output_type": "execute_result"
    }
   ],
   "source": [
    "{5 + 5, 5 - 5, 5 - 5, 5 * 5, 5 // 5, 5 // 5}"
   ]
  },
  {
   "cell_type": "code",
   "execution_count": 21,
   "metadata": {},
   "outputs": [
    {
     "data": {
      "text/plain": [
       "(4, 3)"
      ]
     },
     "execution_count": 21,
     "metadata": {},
     "output_type": "execute_result"
    }
   ],
   "source": [
    "solution(5, 12), solution(2,11)"
   ]
  },
  {
   "attachments": {
    "image.png": {
     "image/png": "[encoded data removed]"
    }
   },
   "cell_type": "markdown",
   "metadata": {},
   "source": [
    "![image.png](attachment:image.png)"
   ]
  }
 ],
 "metadata": {
  "kernelspec": {
   "display_name": "Python 3",
   "language": "python",
   "name": "python3"
  },
  "language_info": {
   "codemirror_mode": {
    "name": "ipython",
    "version": 3
   },
   "file_extension": ".py",
   "mimetype": "text/x-python",
   "name": "python",
   "nbconvert_exporter": "python",
   "pygments_lexer": "ipython3",
   "version": "3.7.4"
  }
 },
 "nbformat": 4,
 "nbformat_minor": 4
}
